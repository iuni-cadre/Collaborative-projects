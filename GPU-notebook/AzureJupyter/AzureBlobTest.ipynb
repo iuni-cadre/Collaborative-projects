{
 "cells": [
  {
   "cell_type": "code",
   "execution_count": 20,
   "metadata": {},
   "outputs": [
    {
     "name": "stdout",
     "output_type": "stream",
     "text": [
      "Requirement already satisfied: ConfigParser in /opt/conda/lib/python3.6/site-packages (3.7.3)\n",
      "\u001b[31mkeras 2.2.0 has requirement keras-applications==1.0.2, but you'll have keras-applications 1.0.7 which is incompatible.\u001b[0m\n",
      "\u001b[31mkeras 2.2.0 has requirement keras-preprocessing==1.0.1, but you'll have keras-preprocessing 1.0.9 which is incompatible.\u001b[0m\n",
      "\u001b[33mYou are using pip version 10.0.1, however version 19.0.3 is available.\n",
      "You should consider upgrading via the 'pip install --upgrade pip' command.\u001b[0m\n"
     ]
    }
   ],
   "source": [
    "import os, sys\n",
    "os.getcwd()\n",
    "#!pip install azure-storage-blob\n",
    "#!pip install ConfigParser"
   ]
  },
  {
   "cell_type": "code",
   "execution_count": 30,
   "metadata": {},
   "outputs": [
    {
     "data": {
      "text/plain": [
       "['configuration']"
      ]
     },
     "execution_count": 30,
     "metadata": {},
     "output_type": "execute_result"
    }
   ],
   "source": [
    "import configparser\n",
    "\n",
    "config = configparser.ConfigParser()\n",
    "config.read(\"AzureDownload/config.txt\")\n",
    "config.sections()"
   ]
  },
  {
   "cell_type": "code",
   "execution_count": 31,
   "metadata": {},
   "outputs": [
    {
     "name": "stdout",
     "output_type": "stream",
     "text": [
      "It takes 0.46274232864379883 seconds to download test.tsv\n"
     ]
    }
   ],
   "source": [
    "import time\n",
    "from azure.storage.blob import BlockBlobService\n",
    "\n",
    "CONTAINERNAME = \"mag-2019-01-25\"\n",
    "BLOBNAME= \"test.tsv\"\n",
    "LOCALFILENAME= \"AzureDownload/test.tsv\"\n",
    "\n",
    "block_blob_service=BlockBlobService(account_name=config.get(\"configuration\",\"account\"),account_key=config.get(\"configuration\",\"password\"))\n",
    "#download from blob\n",
    "t1=time.time()\n",
    "block_blob_service.get_blob_to_path(CONTAINERNAME,BLOBNAME,LOCALFILENAME)\n",
    "t2=time.time()\n",
    "print((\"It takes %s seconds to download \"+BLOBNAME) % (t2 - t1))\n"
   ]
  },
  {
   "cell_type": "code",
   "execution_count": 32,
   "metadata": {},
   "outputs": [
    {
     "data": {
      "text/plain": [
       "(55, 1)"
      ]
     },
     "execution_count": 32,
     "metadata": {},
     "output_type": "execute_result"
    }
   ],
   "source": [
    "import pandas as pd\n",
    "dataframe_blobdata = pd.read_csv(LOCALFILENAME)\n",
    "dataframe_blobdata.shape"
   ]
  },
  {
   "cell_type": "code",
   "execution_count": 33,
   "metadata": {},
   "outputs": [
    {
     "data": {
      "text/html": [
       "<div>\n",
       "<style scoped>\n",
       "    .dataframe tbody tr th:only-of-type {\n",
       "        vertical-align: middle;\n",
       "    }\n",
       "\n",
       "    .dataframe tbody tr th {\n",
       "        vertical-align: top;\n",
       "    }\n",
       "\n",
       "    .dataframe thead th {\n",
       "        text-align: right;\n",
       "    }\n",
       "</style>\n",
       "<table border=\"1\" class=\"dataframe\">\n",
       "  <thead>\n",
       "    <tr style=\"text-align: right;\">\n",
       "      <th></th>\n",
       "      <th>cvpr</th>\n",
       "    </tr>\n",
       "  </thead>\n",
       "  <tbody>\n",
       "    <tr>\n",
       "      <th>0</th>\n",
       "      <td>chi</td>\n",
       "    </tr>\n",
       "    <tr>\n",
       "      <th>1</th>\n",
       "      <td>www</td>\n",
       "    </tr>\n",
       "    <tr>\n",
       "      <th>2</th>\n",
       "      <td>pvldb</td>\n",
       "    </tr>\n",
       "    <tr>\n",
       "      <th>3</th>\n",
       "      <td>iccv</td>\n",
       "    </tr>\n",
       "    <tr>\n",
       "      <th>4</th>\n",
       "      <td>icra</td>\n",
       "    </tr>\n",
       "  </tbody>\n",
       "</table>\n",
       "</div>"
      ],
      "text/plain": [
       "    cvpr\n",
       "0    chi\n",
       "1    www\n",
       "2  pvldb\n",
       "3   iccv\n",
       "4   icra"
      ]
     },
     "execution_count": 33,
     "metadata": {},
     "output_type": "execute_result"
    }
   ],
   "source": [
    "dataframe_blobdata.head(5)"
   ]
  },
  {
   "cell_type": "code",
   "execution_count": 34,
   "metadata": {},
   "outputs": [
    {
     "name": "stdout",
     "output_type": "stream",
     "text": [
      "Temp file = AzureDownload/newTest.tsv\n",
      "\n",
      "Uploading to Blob storage as blob\n"
     ]
    },
    {
     "data": {
      "text/plain": [
       "<azure.storage.blob.models.ResourceProperties at 0x7f5eddac9780>"
      ]
     },
     "execution_count": 34,
     "metadata": {},
     "output_type": "execute_result"
    }
   ],
   "source": [
    "# Create a container called 'LiXin'.\n",
    "container_name ='lixin'\n",
    "block_blob_service.create_container(container_name) \n",
    "uploadFile =os.path.join(\"AzureDownload\", \"newTest.tsv\")\n",
    "\n",
    "# Write text to the file.\n",
    "file = open(uploadFile,  'w')\n",
    "file.write(\"Hello, World!\")\n",
    "file.close()\n",
    "\n",
    "print(\"Temp file = \" + uploadFile)\n",
    "print(\"\\nUploading to Blob storage as blob\")\n",
    "\n",
    "# Upload the created file, use local_file_name for the blob name\n",
    "block_blob_service.create_blob_from_path(container_name, \"newTest.tsv\", uploadFile)"
   ]
  },
  {
   "cell_type": "code",
   "execution_count": null,
   "metadata": {},
   "outputs": [],
   "source": []
  }
 ],
 "metadata": {
  "kernelspec": {
   "display_name": "Python 3",
   "language": "python",
   "name": "python3"
  },
  "language_info": {
   "codemirror_mode": {
    "name": "ipython",
    "version": 3
   },
   "file_extension": ".py",
   "mimetype": "text/x-python",
   "name": "python",
   "nbconvert_exporter": "python",
   "pygments_lexer": "ipython3",
   "version": "3.6.4"
  }
 },
 "nbformat": 4,
 "nbformat_minor": 2
}
