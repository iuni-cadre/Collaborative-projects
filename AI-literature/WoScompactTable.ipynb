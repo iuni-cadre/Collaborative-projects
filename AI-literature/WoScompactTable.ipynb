{
 "cells": [
  {
   "cell_type": "code",
   "execution_count": 16,
   "metadata": {},
   "outputs": [
    {
     "data": {
      "text/plain": [
       "sqlContext = org.apache.spark.sql.SQLContext@3811830e\n"
      ]
     },
     "metadata": {},
     "output_type": "display_data",
     "source": "user"
    },
    {
     "data": {
      "text/plain": [
       "lastException: Throwable = null\n",
       "warning: there was one deprecation warning; re-run with -deprecation for details\n"
      ]
     },
     "metadata": {},
     "output_type": "display_data",
     "source": "user"
    },
    {
     "data": {
      "text/plain": [
       "Some(http://iuni2:4043)"
      ]
     },
     "execution_count": 16,
     "metadata": {},
     "output_type": "execute_result"
    }
   ],
   "source": [
    "import org.apache.spark.sql.SQLContext\n",
    "import org.apache.spark.sql.types.{StructType, StructField, StringType, DoubleType};\n",
    "import com.databricks.spark.xml._\n",
    "\n",
    "val sqlContext = new SQLContext(sc)\n",
    "import sqlContext.implicits._\n",
    "sqlContext.sql(\"set spark.sql.caseSensitive=true\") \n",
    "spark.sparkContext.uiWebUrl"
   ]
  },
  {
   "cell_type": "code",
   "execution_count": 17,
   "metadata": {},
   "outputs": [
    {
     "name": "stdout",
     "output_type": "stream",
     "text": [
      "+-------------------+--------------------+---------+---------+-------------+---------+------------+--------------------+--------+----+--------+---------+-----------------+--------------------+----+\n",
      "|                UID|    _r_id_disclaimer|abstracts|addresses|category_info|citedWork|contributors|        dynamic_data|fund_ack|item|keywords|reference|reprint_addresses|         static_data| sup|\n",
      "+-------------------+--------------------+---------+---------+-------------+---------+------------+--------------------+--------+----+--------+---------+-----------------+--------------------+----+\n",
      "|WOS:000201885200002|ResearcherID data...|     null|     null|         null|     null|        null|[[[[[, accession_...|    null|null|    null|     null|             null|[,,,,, [, [, 0,],...|null|\n",
      "|WOS:000200400400015|ResearcherID data...|     null|     null|         null|     null|        null|[[[[[, accession_...|    null|null|    null|     null|             null|[,,,,, [, [, 0,],...|null|\n",
      "+-------------------+--------------------+---------+---------+-------------+---------+------------+--------------------+--------+----+--------+---------+-----------------+--------------------+----+\n",
      "only showing top 2 rows\n",
      "\n",
      "root\n",
      " |-- UID: string (nullable = true)\n",
      " |-- _r_id_disclaimer: string (nullable = true)\n",
      " |-- abstracts: struct (nullable = true)\n",
      " |    |-- _count: long (nullable = true)\n",
      " |    |-- abstract: struct (nullable = true)\n",
      " |    |    |-- abstract_text: struct (nullable = true)\n",
      " |    |    |    |-- _count: long (nullable = true)\n",
      " |    |    |    |-- p: array (nullable = true)\n",
      " |    |    |    |    |-- element: string (containsNull = true)\n",
      " |-- addresses: struct (nullable = true)\n",
      " |    |-- _VALUE: string (nullable = true)\n",
      " |    |-- _count: long (nullable = true)\n",
      " |    |-- address_name: array (nullable = true)\n",
      " |    |    |-- element: struct (containsNull = true)\n",
      " |    |    |    |-- address_spec: struct (nullable = true)\n",
      " |    |    |    |    |-- _addr_no: long (nullable = true)\n",
      " |    |    |    |    |-- city: string (nullable = true)\n",
      " |    |    |    |    |-- country: string (nullable = true)\n",
      " |    |    |    |    |-- full_address: string (nullable = true)\n",
      " |    |    |    |    |-- organizations: struct (nullable = true)\n",
      " |    |    |    |    |    |-- _count: long (nullable = true)\n",
      " |    |    |    |    |    |-- organization: array (nullable = true)\n",
      " |    |    |    |    |    |    |-- element: struct (containsNull = true)\n",
      " |    |    |    |    |    |    |    |-- _VALUE: string (nullable = true)\n",
      " |    |    |    |    |    |    |    |-- _pref: string (nullable = true)\n",
      " |    |    |    |    |-- state: string (nullable = true)\n",
      " |    |    |    |    |-- street: string (nullable = true)\n",
      " |    |    |    |    |-- suborganizations: struct (nullable = true)\n",
      " |    |    |    |    |    |-- _count: long (nullable = true)\n",
      " |    |    |    |    |    |-- suborganization: array (nullable = true)\n",
      " |    |    |    |    |    |    |-- element: string (containsNull = true)\n",
      " |    |    |    |    |-- zip: array (nullable = true)\n",
      " |    |    |    |    |    |-- element: struct (containsNull = true)\n",
      " |    |    |    |    |    |    |-- _VALUE: string (nullable = true)\n",
      " |    |    |    |    |    |    |-- _location: string (nullable = true)\n",
      " |    |    |    |-- names: struct (nullable = true)\n",
      " |    |    |    |    |-- _count: long (nullable = true)\n",
      " |    |    |    |    |-- name: array (nullable = true)\n",
      " |    |    |    |    |    |-- element: struct (containsNull = true)\n",
      " |    |    |    |    |    |    |-- _addr_no: long (nullable = true)\n",
      " |    |    |    |    |    |    |-- _orcid_id_tr: string (nullable = true)\n",
      " |    |    |    |    |    |    |-- _r_id: string (nullable = true)\n",
      " |    |    |    |    |    |    |-- _reprint: string (nullable = true)\n",
      " |    |    |    |    |    |    |-- _role: string (nullable = true)\n",
      " |    |    |    |    |    |    |-- _seq_no: long (nullable = true)\n",
      " |    |    |    |    |    |    |-- display_name: string (nullable = true)\n",
      " |    |    |    |    |    |    |-- email_addr: string (nullable = true)\n",
      " |    |    |    |    |    |    |-- first_name: string (nullable = true)\n",
      " |    |    |    |    |    |    |-- full_name: string (nullable = true)\n",
      " |    |    |    |    |    |    |-- last_name: string (nullable = true)\n",
      " |    |    |    |    |    |    |-- suffix: string (nullable = true)\n",
      " |    |    |    |    |    |    |-- wos_standard: string (nullable = true)\n",
      " |-- category_info: struct (nullable = true)\n",
      " |    |-- headings: struct (nullable = true)\n",
      " |    |    |-- _count: long (nullable = true)\n",
      " |    |    |-- heading: array (nullable = true)\n",
      " |    |    |    |-- element: string (containsNull = true)\n",
      " |    |-- subheadings: struct (nullable = true)\n",
      " |    |    |-- _count: long (nullable = true)\n",
      " |    |    |-- subheading: array (nullable = true)\n",
      " |    |    |    |-- element: string (containsNull = true)\n",
      " |    |-- subjects: struct (nullable = true)\n",
      " |    |    |-- _count: long (nullable = true)\n",
      " |    |    |-- subject: array (nullable = true)\n",
      " |    |    |    |-- element: struct (containsNull = true)\n",
      " |    |    |    |    |-- _VALUE: string (nullable = true)\n",
      " |    |    |    |    |-- _ascatype: string (nullable = true)\n",
      " |-- citedWork: string (nullable = true)\n",
      " |-- contributors: struct (nullable = true)\n",
      " |    |-- _count: long (nullable = true)\n",
      " |    |-- contributor: array (nullable = true)\n",
      " |    |    |-- element: struct (containsNull = true)\n",
      " |    |    |    |-- name: struct (nullable = true)\n",
      " |    |    |    |    |-- _orcid_id: string (nullable = true)\n",
      " |    |    |    |    |-- _r_id: string (nullable = true)\n",
      " |    |    |    |    |-- _role: string (nullable = true)\n",
      " |    |    |    |    |-- _seq_no: long (nullable = true)\n",
      " |    |    |    |    |-- display_name: string (nullable = true)\n",
      " |    |    |    |    |-- first_name: string (nullable = true)\n",
      " |    |    |    |    |-- full_name: string (nullable = true)\n",
      " |    |    |    |    |-- last_name: string (nullable = true)\n",
      " |-- dynamic_data: struct (nullable = true)\n",
      " |    |-- cluster_related: struct (nullable = true)\n",
      " |    |    |-- identifiers: struct (nullable = true)\n",
      " |    |    |    |-- identifier: array (nullable = true)\n",
      " |    |    |    |    |-- element: struct (containsNull = true)\n",
      " |    |    |    |    |    |-- _VALUE: string (nullable = true)\n",
      " |    |    |    |    |    |-- _type: string (nullable = true)\n",
      " |    |    |    |    |    |-- _value: string (nullable = true)\n",
      " |-- fund_ack: struct (nullable = true)\n",
      " |    |-- fund_text: struct (nullable = true)\n",
      " |    |    |-- p: array (nullable = true)\n",
      " |    |    |    |-- element: string (containsNull = true)\n",
      " |    |-- grants: struct (nullable = true)\n",
      " |    |    |-- _count: long (nullable = true)\n",
      " |    |    |-- grant: array (nullable = true)\n",
      " |    |    |    |-- element: struct (containsNull = true)\n",
      " |    |    |    |    |-- grant_agency: string (nullable = true)\n",
      " |    |    |    |    |-- grant_ids: struct (nullable = true)\n",
      " |    |    |    |    |    |-- _count: long (nullable = true)\n",
      " |    |    |    |    |    |-- grant_id: array (nullable = true)\n",
      " |    |    |    |    |    |    |-- element: string (containsNull = true)\n",
      " |-- item: struct (nullable = true)\n",
      " |    |-- _xmlns:xsi: string (nullable = true)\n",
      " |    |-- _xsi:type: string (nullable = true)\n",
      " |    |-- bib_id: string (nullable = true)\n",
      " |    |-- bib_pagecount: struct (nullable = true)\n",
      " |    |    |-- _VALUE: long (nullable = true)\n",
      " |    |    |-- _type: string (nullable = true)\n",
      " |    |-- book_chapters: long (nullable = true)\n",
      " |    |-- book_desc: array (nullable = true)\n",
      " |    |    |-- element: struct (containsNull = true)\n",
      " |    |    |    |-- bk_binding: string (nullable = true)\n",
      " |    |    |    |-- bk_ordering: string (nullable = true)\n",
      " |    |    |    |-- bk_prepay: string (nullable = true)\n",
      " |    |    |    |-- bk_price: struct (nullable = true)\n",
      " |    |    |    |    |-- _VALUE: string (nullable = true)\n",
      " |    |    |    |    |-- _amount: double (nullable = true)\n",
      " |    |    |    |    |-- _currency: string (nullable = true)\n",
      " |    |    |    |    |-- _desc: string (nullable = true)\n",
      " |    |    |    |    |-- _volumes: long (nullable = true)\n",
      " |    |    |    |-- bk_publisher: string (nullable = true)\n",
      " |    |-- book_notes: struct (nullable = true)\n",
      " |    |    |-- _count: long (nullable = true)\n",
      " |    |    |-- book_note: array (nullable = true)\n",
      " |    |    |    |-- element: string (containsNull = true)\n",
      " |    |-- book_pages: long (nullable = true)\n",
      " |    |-- ids: struct (nullable = true)\n",
      " |    |    |-- _VALUE: string (nullable = true)\n",
      " |    |    |-- _avail: string (nullable = true)\n",
      " |    |-- keywords_plus: struct (nullable = true)\n",
      " |    |    |-- _count: long (nullable = true)\n",
      " |    |    |-- keyword: array (nullable = true)\n",
      " |    |    |    |-- element: string (containsNull = true)\n",
      " |    |-- reviewed_work: struct (nullable = true)\n",
      " |    |    |-- languages: struct (nullable = true)\n",
      " |    |    |    |-- _count: long (nullable = true)\n",
      " |    |    |    |-- language: string (nullable = true)\n",
      " |    |    |-- rw_authors: struct (nullable = true)\n",
      " |    |    |    |-- _count: long (nullable = true)\n",
      " |    |    |    |-- rw_author: array (nullable = true)\n",
      " |    |    |    |    |-- element: string (containsNull = true)\n",
      " |    |    |-- rw_year: long (nullable = true)\n",
      " |-- keywords: struct (nullable = true)\n",
      " |    |-- _count: long (nullable = true)\n",
      " |    |-- keyword: array (nullable = true)\n",
      " |    |    |-- element: string (containsNull = true)\n",
      " |-- reference: array (nullable = true)\n",
      " |    |-- element: struct (containsNull = true)\n",
      " |    |    |-- art_no: string (nullable = true)\n",
      " |    |    |-- assignee: string (nullable = true)\n",
      " |    |    |-- citedAuthor: string (nullable = true)\n",
      " |    |    |-- citedTitle: string (nullable = true)\n",
      " |    |    |-- citedWork: string (nullable = true)\n",
      " |    |    |-- doi: string (nullable = true)\n",
      " |    |    |-- i: array (nullable = true)\n",
      " |    |    |    |-- element: string (containsNull = true)\n",
      " |    |    |-- page: string (nullable = true)\n",
      " |    |    |-- patent_no: string (nullable = true)\n",
      " |    |    |-- sub: array (nullable = true)\n",
      " |    |    |    |-- element: string (containsNull = true)\n",
      " |    |    |-- sup: array (nullable = true)\n",
      " |    |    |    |-- element: string (containsNull = true)\n",
      " |    |    |-- uid: string (nullable = true)\n",
      " |    |    |-- volume: string (nullable = true)\n",
      " |    |    |-- year: string (nullable = true)\n",
      " |-- reprint_addresses: struct (nullable = true)\n",
      " |    |-- _count: long (nullable = true)\n",
      " |    |-- address_name: array (nullable = true)\n",
      " |    |    |-- element: struct (containsNull = true)\n",
      " |    |    |    |-- address_spec: struct (nullable = true)\n",
      " |    |    |    |    |-- _addr_no: long (nullable = true)\n",
      " |    |    |    |    |-- city: string (nullable = true)\n",
      " |    |    |    |    |-- country: string (nullable = true)\n",
      " |    |    |    |    |-- full_address: string (nullable = true)\n",
      " |    |    |    |    |-- organizations: struct (nullable = true)\n",
      " |    |    |    |    |    |-- _count: long (nullable = true)\n",
      " |    |    |    |    |    |-- organization: array (nullable = true)\n",
      " |    |    |    |    |    |    |-- element: struct (containsNull = true)\n",
      " |    |    |    |    |    |    |    |-- _VALUE: string (nullable = true)\n",
      " |    |    |    |    |    |    |    |-- _pref: string (nullable = true)\n",
      " |    |    |    |    |-- state: string (nullable = true)\n",
      " |    |    |    |    |-- street: string (nullable = true)\n",
      " |    |    |    |    |-- suborganizations: struct (nullable = true)\n",
      " |    |    |    |    |    |-- _count: long (nullable = true)\n",
      " |    |    |    |    |    |-- suborganization: array (nullable = true)\n",
      " |    |    |    |    |    |    |-- element: string (containsNull = true)\n",
      " |    |    |    |    |-- zip: array (nullable = true)\n",
      " |    |    |    |    |    |-- element: struct (containsNull = true)\n",
      " |    |    |    |    |    |    |-- _VALUE: string (nullable = true)\n",
      " |    |    |    |    |    |    |-- _location: string (nullable = true)\n",
      " |    |    |    |-- names: struct (nullable = true)\n",
      " |    |    |    |    |-- _count: long (nullable = true)\n",
      " |    |    |    |    |-- name: array (nullable = true)\n",
      " |    |    |    |    |    |-- element: struct (containsNull = true)\n",
      " |    |    |    |    |    |    |-- _addr_no: long (nullable = true)\n",
      " |    |    |    |    |    |    |-- _display: string (nullable = true)\n",
      " |    |    |    |    |    |    |-- _reprint: string (nullable = true)\n",
      " |    |    |    |    |    |    |-- _role: string (nullable = true)\n",
      " |    |    |    |    |    |    |-- _seq_no: long (nullable = true)\n",
      " |    |    |    |    |    |    |-- display_name: string (nullable = true)\n",
      " |    |    |    |    |    |    |-- email_addr: string (nullable = true)\n",
      " |    |    |    |    |    |    |-- first_name: string (nullable = true)\n",
      " |    |    |    |    |    |    |-- full_name: string (nullable = true)\n",
      " |    |    |    |    |    |    |-- last_name: string (nullable = true)\n",
      " |    |    |    |    |    |    |-- suffix: string (nullable = true)\n",
      " |    |    |    |    |    |    |-- wos_standard: string (nullable = true)\n",
      " |-- static_data: struct (nullable = true)\n",
      " |    |-- abstracts: struct (nullable = true)\n",
      " |    |    |-- _count: long (nullable = true)\n",
      " |    |    |-- abstract: struct (nullable = true)\n",
      " |    |    |    |-- abstract_text: struct (nullable = true)\n",
      " |    |    |    |    |-- _count: long (nullable = true)\n",
      " |    |    |    |    |-- p: array (nullable = true)\n",
      " |    |    |    |    |    |-- element: string (containsNull = true)\n",
      " |    |-- addresses: struct (nullable = true)\n",
      " |    |    |-- _VALUE: string (nullable = true)\n",
      " |    |    |-- _count: long (nullable = true)\n",
      " |    |    |-- address_name: array (nullable = true)\n",
      " |    |    |    |-- element: struct (containsNull = true)\n",
      " |    |    |    |    |-- address_spec: struct (nullable = true)\n",
      " |    |    |    |    |    |-- _addr_no: long (nullable = true)\n",
      " |    |    |    |    |    |-- city: string (nullable = true)\n",
      " |    |    |    |    |    |-- country: string (nullable = true)\n",
      " |    |    |    |    |    |-- full_address: string (nullable = true)\n",
      " |    |    |    |    |    |-- organizations: struct (nullable = true)\n",
      " |    |    |    |    |    |    |-- _count: long (nullable = true)\n",
      " |    |    |    |    |    |    |-- organization: array (nullable = true)\n",
      " |    |    |    |    |    |    |    |-- element: struct (containsNull = true)\n",
      " |    |    |    |    |    |    |    |    |-- _VALUE: string (nullable = true)\n",
      " |    |    |    |    |    |    |    |    |-- _pref: string (nullable = true)\n",
      " |    |    |    |    |    |-- state: string (nullable = true)\n",
      " |    |    |    |    |    |-- street: string (nullable = true)\n",
      " |    |    |    |    |    |-- suborganizations: struct (nullable = true)\n",
      " |    |    |    |    |    |    |-- _count: long (nullable = true)\n",
      " |    |    |    |    |    |    |-- suborganization: array (nullable = true)\n",
      " |    |    |    |    |    |    |    |-- element: string (containsNull = true)\n",
      " |    |    |    |    |    |-- zip: array (nullable = true)\n",
      " |    |    |    |    |    |    |-- element: struct (containsNull = true)\n",
      " |    |    |    |    |    |    |    |-- _VALUE: string (nullable = true)\n",
      " |    |    |    |    |    |    |    |-- _location: string (nullable = true)\n",
      " |    |    |    |    |-- names: struct (nullable = true)\n",
      " |    |    |    |    |    |-- _count: long (nullable = true)\n",
      " |    |    |    |    |    |-- name: array (nullable = true)\n",
      " |    |    |    |    |    |    |-- element: struct (containsNull = true)\n",
      " |    |    |    |    |    |    |    |-- _addr_no: long (nullable = true)\n",
      " |    |    |    |    |    |    |    |-- _orcid_id_tr: string (nullable = true)\n",
      " |    |    |    |    |    |    |    |-- _r_id: string (nullable = true)\n",
      " |    |    |    |    |    |    |    |-- _reprint: string (nullable = true)\n",
      " |    |    |    |    |    |    |    |-- _role: string (nullable = true)\n",
      " |    |    |    |    |    |    |    |-- _seq_no: long (nullable = true)\n",
      " |    |    |    |    |    |    |    |-- display_name: string (nullable = true)\n",
      " |    |    |    |    |    |    |    |-- email_addr: string (nullable = true)\n",
      " |    |    |    |    |    |    |    |-- first_name: string (nullable = true)\n",
      " |    |    |    |    |    |    |    |-- full_name: string (nullable = true)\n",
      " |    |    |    |    |    |    |    |-- last_name: string (nullable = true)\n",
      " |    |    |    |    |    |    |    |-- suffix: string (nullable = true)\n",
      " |    |    |    |    |    |    |    |-- wos_standard: string (nullable = true)\n",
      " |    |-- category_info: struct (nullable = true)\n",
      " |    |    |-- headings: struct (nullable = true)\n",
      " |    |    |    |-- _count: long (nullable = true)\n",
      " |    |    |    |-- heading: array (nullable = true)\n",
      " |    |    |    |    |-- element: string (containsNull = true)\n",
      " |    |    |-- subheadings: struct (nullable = true)\n",
      " |    |    |    |-- _count: long (nullable = true)\n",
      " |    |    |    |-- subheading: array (nullable = true)\n",
      " |    |    |    |    |-- element: string (containsNull = true)\n",
      " |    |    |-- subjects: struct (nullable = true)\n",
      " |    |    |    |-- _count: long (nullable = true)\n",
      " |    |    |    |-- subject: array (nullable = true)\n",
      " |    |    |    |    |-- element: struct (containsNull = true)\n",
      " |    |    |    |    |    |-- _VALUE: string (nullable = true)\n",
      " |    |    |    |    |    |-- _ascatype: string (nullable = true)\n",
      " |    |-- citedWork: string (nullable = true)\n",
      " |    |-- contributors: struct (nullable = true)\n",
      " |    |    |-- _count: long (nullable = true)\n",
      " |    |    |-- contributor: array (nullable = true)\n",
      " |    |    |    |-- element: struct (containsNull = true)\n",
      " |    |    |    |    |-- name: struct (nullable = true)\n",
      " |    |    |    |    |    |-- _orcid_id: string (nullable = true)\n",
      " |    |    |    |    |    |-- _r_id: string (nullable = true)\n",
      " |    |    |    |    |    |-- _role: string (nullable = true)\n",
      " |    |    |    |    |    |-- _seq_no: long (nullable = true)\n",
      " |    |    |    |    |    |-- display_name: string (nullable = true)\n",
      " |    |    |    |    |    |-- first_name: string (nullable = true)\n",
      " |    |    |    |    |    |-- full_name: string (nullable = true)\n",
      " |    |    |    |    |    |-- last_name: string (nullable = true)\n",
      " |    |-- fullrecord_metadata: struct (nullable = true)\n",
      " |    |    |-- abstracts: struct (nullable = true)\n",
      " |    |    |    |-- _count: long (nullable = true)\n",
      " |    |    |    |-- abstract: struct (nullable = true)\n",
      " |    |    |    |    |-- abstract_text: struct (nullable = true)\n",
      " |    |    |    |    |    |-- _count: long (nullable = true)\n",
      " |    |    |    |    |    |-- p: array (nullable = true)\n",
      " |    |    |    |    |    |    |-- element: string (containsNull = true)\n",
      " |    |    |-- addresses: struct (nullable = true)\n",
      " |    |    |    |-- _VALUE: string (nullable = true)\n",
      " |    |    |    |-- _count: long (nullable = true)\n",
      " |    |    |    |-- address_name: array (nullable = true)\n",
      " |    |    |    |    |-- element: struct (containsNull = true)\n",
      " |    |    |    |    |    |-- address_spec: struct (nullable = true)\n",
      " |    |    |    |    |    |    |-- _addr_no: long (nullable = true)\n",
      " |    |    |    |    |    |    |-- city: string (nullable = true)\n",
      " |    |    |    |    |    |    |-- country: string (nullable = true)\n",
      " |    |    |    |    |    |    |-- full_address: string (nullable = true)\n",
      " |    |    |    |    |    |    |-- organizations: struct (nullable = true)\n",
      " |    |    |    |    |    |    |    |-- _count: long (nullable = true)\n",
      " |    |    |    |    |    |    |    |-- organization: array (nullable = true)\n",
      " |    |    |    |    |    |    |    |    |-- element: struct (containsNull = true)\n",
      " |    |    |    |    |    |    |    |    |    |-- _VALUE: string (nullable = true)\n",
      " |    |    |    |    |    |    |    |    |    |-- _pref: string (nullable = true)\n",
      " |    |    |    |    |    |    |-- state: string (nullable = true)\n",
      " |    |    |    |    |    |    |-- street: string (nullable = true)\n",
      " |    |    |    |    |    |    |-- suborganizations: struct (nullable = true)\n",
      " |    |    |    |    |    |    |    |-- _count: long (nullable = true)\n",
      " |    |    |    |    |    |    |    |-- suborganization: array (nullable = true)\n",
      " |    |    |    |    |    |    |    |    |-- element: string (containsNull = true)\n",
      " |    |    |    |    |    |    |-- zip: array (nullable = true)\n",
      " |    |    |    |    |    |    |    |-- element: struct (containsNull = true)\n",
      " |    |    |    |    |    |    |    |    |-- _VALUE: string (nullable = true)\n",
      " |    |    |    |    |    |    |    |    |-- _location: string (nullable = true)\n",
      " |    |    |    |    |    |-- names: struct (nullable = true)\n",
      " |    |    |    |    |    |    |-- _count: long (nullable = true)\n",
      " |    |    |    |    |    |    |-- name: array (nullable = true)\n",
      " |    |    |    |    |    |    |    |-- element: struct (containsNull = true)\n",
      " |    |    |    |    |    |    |    |    |-- _addr_no: long (nullable = true)\n",
      " |    |    |    |    |    |    |    |    |-- _orcid_id_tr: string (nullable = true)\n",
      " |    |    |    |    |    |    |    |    |-- _r_id: string (nullable = true)\n",
      " |    |    |    |    |    |    |    |    |-- _r_id_tr: string (nullable = true)\n",
      " |    |    |    |    |    |    |    |    |-- _reprint: string (nullable = true)\n",
      " |    |    |    |    |    |    |    |    |-- _role: string (nullable = true)\n",
      " |    |    |    |    |    |    |    |    |-- _seq_no: long (nullable = true)\n",
      " |    |    |    |    |    |    |    |    |-- display_name: string (nullable = true)\n",
      " |    |    |    |    |    |    |    |    |-- email_addr: string (nullable = true)\n",
      " |    |    |    |    |    |    |    |    |-- first_name: string (nullable = true)\n",
      " |    |    |    |    |    |    |    |    |-- full_name: string (nullable = true)\n",
      " |    |    |    |    |    |    |    |    |-- last_name: string (nullable = true)\n",
      " |    |    |    |    |    |    |    |    |-- suffix: string (nullable = true)\n",
      " |    |    |    |    |    |    |    |    |-- wos_standard: string (nullable = true)\n",
      " |    |    |-- category_info: struct (nullable = true)\n",
      " |    |    |    |-- headings: struct (nullable = true)\n",
      " |    |    |    |    |-- _count: long (nullable = true)\n",
      " |    |    |    |    |-- heading: array (nullable = true)\n",
      " |    |    |    |    |    |-- element: string (containsNull = true)\n",
      " |    |    |    |-- subheadings: struct (nullable = true)\n",
      " |    |    |    |    |-- _count: long (nullable = true)\n",
      " |    |    |    |    |-- subheading: array (nullable = true)\n",
      " |    |    |    |    |    |-- element: string (containsNull = true)\n",
      " |    |    |    |-- subjects: struct (nullable = true)\n",
      " |    |    |    |    |-- _count: long (nullable = true)\n",
      " |    |    |    |    |-- subject: array (nullable = true)\n",
      " |    |    |    |    |    |-- element: struct (containsNull = true)\n",
      " |    |    |    |    |    |    |-- _VALUE: string (nullable = true)\n",
      " |    |    |    |    |    |    |-- _ascatype: string (nullable = true)\n",
      " |    |    |-- citedWork: string (nullable = true)\n",
      " |    |    |-- fund_ack: struct (nullable = true)\n",
      " |    |    |    |-- fund_text: struct (nullable = true)\n",
      " |    |    |    |    |-- p: array (nullable = true)\n",
      " |    |    |    |    |    |-- element: string (containsNull = true)\n",
      " |    |    |    |-- grants: struct (nullable = true)\n",
      " |    |    |    |    |-- _count: long (nullable = true)\n",
      " |    |    |    |    |-- grant: array (nullable = true)\n",
      " |    |    |    |    |    |-- element: struct (containsNull = true)\n",
      " |    |    |    |    |    |    |-- grant_agency: string (nullable = true)\n",
      " |    |    |    |    |    |    |-- grant_ids: struct (nullable = true)\n",
      " |    |    |    |    |    |    |    |-- _count: long (nullable = true)\n",
      " |    |    |    |    |    |    |    |-- grant_id: array (nullable = true)\n",
      " |    |    |    |    |    |    |    |    |-- element: string (containsNull = true)\n",
      " |    |    |-- i: array (nullable = true)\n",
      " |    |    |    |-- element: string (containsNull = true)\n",
      " |    |    |-- keywords: struct (nullable = true)\n",
      " |    |    |    |-- _count: long (nullable = true)\n",
      " |    |    |    |-- keyword: array (nullable = true)\n",
      " |    |    |    |    |-- element: string (containsNull = true)\n",
      " |    |    |-- languages: struct (nullable = true)\n",
      " |    |    |    |-- _count: long (nullable = true)\n",
      " |    |    |    |-- language: array (nullable = true)\n",
      " |    |    |    |    |-- element: struct (containsNull = true)\n",
      " |    |    |    |    |    |-- _VALUE: string (nullable = true)\n",
      " |    |    |    |    |    |-- _type: string (nullable = true)\n",
      " |    |    |-- normalized_doctypes: struct (nullable = true)\n",
      " |    |    |    |-- _count: long (nullable = true)\n",
      " |    |    |    |-- doctype: array (nullable = true)\n",
      " |    |    |    |    |-- element: string (containsNull = true)\n",
      " |    |    |-- normalized_languages: struct (nullable = true)\n",
      " |    |    |    |-- _count: long (nullable = true)\n",
      " |    |    |    |-- language: array (nullable = true)\n",
      " |    |    |    |    |-- element: struct (containsNull = true)\n",
      " |    |    |    |    |    |-- _VALUE: string (nullable = true)\n",
      " |    |    |    |    |    |-- _type: string (nullable = true)\n",
      " |    |    |-- reference: array (nullable = true)\n",
      " |    |    |    |-- element: struct (containsNull = true)\n",
      " |    |    |    |    |-- art_no: string (nullable = true)\n",
      " |    |    |    |    |-- assignee: string (nullable = true)\n",
      " |    |    |    |    |-- citedAuthor: string (nullable = true)\n",
      " |    |    |    |    |-- citedTitle: string (nullable = true)\n",
      " |    |    |    |    |-- citedWork: string (nullable = true)\n",
      " |    |    |    |    |-- doi: string (nullable = true)\n",
      " |    |    |    |    |-- i: array (nullable = true)\n",
      " |    |    |    |    |    |-- element: string (containsNull = true)\n",
      " |    |    |    |    |-- page: string (nullable = true)\n",
      " |    |    |    |    |-- patent_no: string (nullable = true)\n",
      " |    |    |    |    |-- sub: array (nullable = true)\n",
      " |    |    |    |    |    |-- element: string (containsNull = true)\n",
      " |    |    |    |    |-- sup: array (nullable = true)\n",
      " |    |    |    |    |    |-- element: string (containsNull = true)\n",
      " |    |    |    |    |-- uid: string (nullable = true)\n",
      " |    |    |    |    |-- volume: string (nullable = true)\n",
      " |    |    |    |    |-- year: string (nullable = true)\n",
      " |    |    |-- references: struct (nullable = true)\n",
      " |    |    |    |-- _VALUE: string (nullable = true)\n",
      " |    |    |    |-- _count: long (nullable = true)\n",
      " |    |    |    |-- citedWork: string (nullable = true)\n",
      " |    |    |    |-- i: array (nullable = true)\n",
      " |    |    |    |    |-- element: string (containsNull = true)\n",
      " |    |    |    |-- reference: array (nullable = true)\n",
      " |    |    |    |    |-- element: struct (containsNull = true)\n",
      " |    |    |    |    |    |-- art_no: string (nullable = true)\n",
      " |    |    |    |    |    |-- assignee: string (nullable = true)\n",
      " |    |    |    |    |    |-- citedAuthor: string (nullable = true)\n",
      " |    |    |    |    |    |-- citedTitle: string (nullable = true)\n",
      " |    |    |    |    |    |-- citedWork: string (nullable = true)\n",
      " |    |    |    |    |    |-- doi: string (nullable = true)\n",
      " |    |    |    |    |    |-- i: array (nullable = true)\n",
      " |    |    |    |    |    |    |-- element: string (containsNull = true)\n",
      " |    |    |    |    |    |-- page: string (nullable = true)\n",
      " |    |    |    |    |    |-- patent_no: string (nullable = true)\n",
      " |    |    |    |    |    |-- sub: array (nullable = true)\n",
      " |    |    |    |    |    |    |-- element: string (containsNull = true)\n",
      " |    |    |    |    |    |-- sup: array (nullable = true)\n",
      " |    |    |    |    |    |    |-- element: string (containsNull = true)\n",
      " |    |    |    |    |    |-- uid: string (nullable = true)\n",
      " |    |    |    |    |    |-- volume: string (nullable = true)\n",
      " |    |    |    |    |    |-- year: string (nullable = true)\n",
      " |    |    |    |-- sub: array (nullable = true)\n",
      " |    |    |    |    |-- element: string (containsNull = true)\n",
      " |    |    |    |-- sup: string (nullable = true)\n",
      " |    |    |-- reprint_addresses: struct (nullable = true)\n",
      " |    |    |    |-- _count: long (nullable = true)\n",
      " |    |    |    |-- address_name: array (nullable = true)\n",
      " |    |    |    |    |-- element: struct (containsNull = true)\n",
      " |    |    |    |    |    |-- address_spec: struct (nullable = true)\n",
      " |    |    |    |    |    |    |-- _addr_no: long (nullable = true)\n",
      " |    |    |    |    |    |    |-- city: string (nullable = true)\n",
      " |    |    |    |    |    |    |-- country: string (nullable = true)\n",
      " |    |    |    |    |    |    |-- full_address: string (nullable = true)\n",
      " |    |    |    |    |    |    |-- organizations: struct (nullable = true)\n",
      " |    |    |    |    |    |    |    |-- _count: long (nullable = true)\n",
      " |    |    |    |    |    |    |    |-- organization: array (nullable = true)\n",
      " |    |    |    |    |    |    |    |    |-- element: struct (containsNull = true)\n",
      " |    |    |    |    |    |    |    |    |    |-- _VALUE: string (nullable = true)\n",
      " |    |    |    |    |    |    |    |    |    |-- _pref: string (nullable = true)\n",
      " |    |    |    |    |    |    |-- state: string (nullable = true)\n",
      " |    |    |    |    |    |    |-- street: string (nullable = true)\n",
      " |    |    |    |    |    |    |-- suborganizations: struct (nullable = true)\n",
      " |    |    |    |    |    |    |    |-- _count: long (nullable = true)\n",
      " |    |    |    |    |    |    |    |-- suborganization: array (nullable = true)\n",
      " |    |    |    |    |    |    |    |    |-- element: string (containsNull = true)\n",
      " |    |    |    |    |    |    |-- zip: array (nullable = true)\n",
      " |    |    |    |    |    |    |    |-- element: struct (containsNull = true)\n",
      " |    |    |    |    |    |    |    |    |-- _VALUE: string (nullable = true)\n",
      " |    |    |    |    |    |    |    |    |-- _location: string (nullable = true)\n",
      " |    |    |    |    |    |-- names: struct (nullable = true)\n",
      " |    |    |    |    |    |    |-- _count: long (nullable = true)\n",
      " |    |    |    |    |    |    |-- name: array (nullable = true)\n",
      " |    |    |    |    |    |    |    |-- element: struct (containsNull = true)\n",
      " |    |    |    |    |    |    |    |    |-- _addr_no: long (nullable = true)\n",
      " |    |    |    |    |    |    |    |    |-- _display: string (nullable = true)\n",
      " |    |    |    |    |    |    |    |    |-- _reprint: string (nullable = true)\n",
      " |    |    |    |    |    |    |    |    |-- _role: string (nullable = true)\n",
      " |    |    |    |    |    |    |    |    |-- _seq_no: long (nullable = true)\n",
      " |    |    |    |    |    |    |    |    |-- display_name: string (nullable = true)\n",
      " |    |    |    |    |    |    |    |    |-- email_addr: string (nullable = true)\n",
      " |    |    |    |    |    |    |    |    |-- first_name: string (nullable = true)\n",
      " |    |    |    |    |    |    |    |    |-- full_name: string (nullable = true)\n",
      " |    |    |    |    |    |    |    |    |-- last_name: string (nullable = true)\n",
      " |    |    |    |    |    |    |    |    |-- suffix: string (nullable = true)\n",
      " |    |    |    |    |    |    |    |    |-- wos_standard: string (nullable = true)\n",
      " |    |    |-- sub: long (nullable = true)\n",
      " |    |-- fund_ack: struct (nullable = true)\n",
      " |    |    |-- fund_text: struct (nullable = true)\n",
      " |    |    |    |-- p: array (nullable = true)\n",
      " |    |    |    |    |-- element: string (containsNull = true)\n",
      " |    |    |-- grants: struct (nullable = true)\n",
      " |    |    |    |-- _count: long (nullable = true)\n",
      " |    |    |    |-- grant: array (nullable = true)\n",
      " |    |    |    |    |-- element: struct (containsNull = true)\n",
      " |    |    |    |    |    |-- grant_agency: string (nullable = true)\n",
      " |    |    |    |    |    |-- grant_ids: struct (nullable = true)\n",
      " |    |    |    |    |    |    |-- _count: long (nullable = true)\n",
      " |    |    |    |    |    |    |-- grant_id: array (nullable = true)\n",
      " |    |    |    |    |    |    |    |-- element: string (containsNull = true)\n",
      " |    |-- i: string (nullable = true)\n",
      " |    |-- item: struct (nullable = true)\n",
      " |    |    |-- _xmlns:xsi: string (nullable = true)\n",
      " |    |    |-- _xsi:type: string (nullable = true)\n",
      " |    |    |-- bib_id: string (nullable = true)\n",
      " |    |    |-- bib_pagecount: struct (nullable = true)\n",
      " |    |    |    |-- _VALUE: long (nullable = true)\n",
      " |    |    |    |-- _type: string (nullable = true)\n",
      " |    |    |-- book_chapters: long (nullable = true)\n",
      " |    |    |-- book_desc: array (nullable = true)\n",
      " |    |    |    |-- element: struct (containsNull = true)\n",
      " |    |    |    |    |-- bk_binding: string (nullable = true)\n",
      " |    |    |    |    |-- bk_ordering: string (nullable = true)\n",
      " |    |    |    |    |-- bk_prepay: string (nullable = true)\n",
      " |    |    |    |    |-- bk_price: struct (nullable = true)\n",
      " |    |    |    |    |    |-- _VALUE: string (nullable = true)\n",
      " |    |    |    |    |    |-- _amount: double (nullable = true)\n",
      " |    |    |    |    |    |-- _currency: string (nullable = true)\n",
      " |    |    |    |    |    |-- _desc: string (nullable = true)\n",
      " |    |    |    |    |    |-- _volumes: long (nullable = true)\n",
      " |    |    |    |    |-- bk_publisher: string (nullable = true)\n",
      " |    |    |-- book_notes: struct (nullable = true)\n",
      " |    |    |    |-- _count: long (nullable = true)\n",
      " |    |    |    |-- book_note: array (nullable = true)\n",
      " |    |    |    |    |-- element: string (containsNull = true)\n",
      " |    |    |-- book_pages: long (nullable = true)\n",
      " |    |    |-- ids: struct (nullable = true)\n",
      " |    |    |    |-- _VALUE: string (nullable = true)\n",
      " |    |    |    |-- _avail: string (nullable = true)\n",
      " |    |    |-- keywords_plus: struct (nullable = true)\n",
      " |    |    |    |-- _count: long (nullable = true)\n",
      " |    |    |    |-- keyword: array (nullable = true)\n",
      " |    |    |    |    |-- element: string (containsNull = true)\n",
      " |    |    |-- reviewed_work: struct (nullable = true)\n",
      " |    |    |    |-- languages: struct (nullable = true)\n",
      " |    |    |    |    |-- _count: long (nullable = true)\n",
      " |    |    |    |    |-- language: array (nullable = true)\n",
      " |    |    |    |    |    |-- element: string (containsNull = true)\n",
      " |    |    |    |-- rw_authors: struct (nullable = true)\n",
      " |    |    |    |    |-- _count: long (nullable = true)\n",
      " |    |    |    |    |-- rw_author: array (nullable = true)\n",
      " |    |    |    |    |    |-- element: string (containsNull = true)\n",
      " |    |    |    |-- rw_year: double (nullable = true)\n",
      " |    |-- keywords: struct (nullable = true)\n",
      " |    |    |-- _count: long (nullable = true)\n",
      " |    |    |-- keyword: array (nullable = true)\n",
      " |    |    |    |-- element: string (containsNull = true)\n",
      " |    |-- reference: array (nullable = true)\n",
      " |    |    |-- element: struct (containsNull = true)\n",
      " |    |    |    |-- art_no: string (nullable = true)\n",
      " |    |    |    |-- assignee: string (nullable = true)\n",
      " |    |    |    |-- citedAuthor: string (nullable = true)\n",
      " |    |    |    |-- citedTitle: string (nullable = true)\n",
      " |    |    |    |-- citedWork: string (nullable = true)\n",
      " |    |    |    |-- doi: string (nullable = true)\n",
      " |    |    |    |-- i: array (nullable = true)\n",
      " |    |    |    |    |-- element: string (containsNull = true)\n",
      " |    |    |    |-- page: string (nullable = true)\n",
      " |    |    |    |-- patent_no: string (nullable = true)\n",
      " |    |    |    |-- sub: array (nullable = true)\n",
      " |    |    |    |    |-- element: string (containsNull = true)\n",
      " |    |    |    |-- sup: array (nullable = true)\n",
      " |    |    |    |    |-- element: string (containsNull = true)\n",
      " |    |    |    |-- uid: string (nullable = true)\n",
      " |    |    |    |-- volume: string (nullable = true)\n",
      " |    |    |    |-- year: string (nullable = true)\n",
      " |    |-- reprint_addresses: struct (nullable = true)\n",
      " |    |    |-- _count: long (nullable = true)\n",
      " |    |    |-- address_name: array (nullable = true)\n",
      " |    |    |    |-- element: struct (containsNull = true)\n",
      " |    |    |    |    |-- address_spec: struct (nullable = true)\n",
      " |    |    |    |    |    |-- _addr_no: long (nullable = true)\n",
      " |    |    |    |    |    |-- city: string (nullable = true)\n",
      " |    |    |    |    |    |-- country: string (nullable = true)\n",
      " |    |    |    |    |    |-- full_address: string (nullable = true)\n",
      " |    |    |    |    |    |-- organizations: struct (nullable = true)\n",
      " |    |    |    |    |    |    |-- _count: long (nullable = true)\n",
      " |    |    |    |    |    |    |-- organization: array (nullable = true)\n",
      " |    |    |    |    |    |    |    |-- element: struct (containsNull = true)\n",
      " |    |    |    |    |    |    |    |    |-- _VALUE: string (nullable = true)\n",
      " |    |    |    |    |    |    |    |    |-- _pref: string (nullable = true)\n",
      " |    |    |    |    |    |-- state: string (nullable = true)\n",
      " |    |    |    |    |    |-- street: string (nullable = true)\n",
      " |    |    |    |    |    |-- suborganizations: struct (nullable = true)\n",
      " |    |    |    |    |    |    |-- _count: long (nullable = true)\n",
      " |    |    |    |    |    |    |-- suborganization: array (nullable = true)\n",
      " |    |    |    |    |    |    |    |-- element: string (containsNull = true)\n",
      " |    |    |    |    |    |-- zip: array (nullable = true)\n",
      " |    |    |    |    |    |    |-- element: struct (containsNull = true)\n",
      " |    |    |    |    |    |    |    |-- _VALUE: string (nullable = true)\n",
      " |    |    |    |    |    |    |    |-- _location: string (nullable = true)\n",
      " |    |    |    |    |-- names: struct (nullable = true)\n",
      " |    |    |    |    |    |-- _count: long (nullable = true)\n",
      " |    |    |    |    |    |-- name: array (nullable = true)\n",
      " |    |    |    |    |    |    |-- element: struct (containsNull = true)\n",
      " |    |    |    |    |    |    |    |-- _addr_no: long (nullable = true)\n",
      " |    |    |    |    |    |    |    |-- _display: string (nullable = true)\n",
      " |    |    |    |    |    |    |    |-- _reprint: string (nullable = true)\n",
      " |    |    |    |    |    |    |    |-- _role: string (nullable = true)\n",
      " |    |    |    |    |    |    |    |-- _seq_no: long (nullable = true)\n",
      " |    |    |    |    |    |    |    |-- display_name: string (nullable = true)\n",
      " |    |    |    |    |    |    |    |-- email_addr: string (nullable = true)\n",
      " |    |    |    |    |    |    |    |-- first_name: string (nullable = true)\n",
      " |    |    |    |    |    |    |    |-- full_name: string (nullable = true)\n",
      " |    |    |    |    |    |    |    |-- last_name: string (nullable = true)\n",
      " |    |    |    |    |    |    |    |-- suffix: string (nullable = true)\n",
      " |    |    |    |    |    |    |    |-- wos_standard: string (nullable = true)\n",
      " |    |-- sub: long (nullable = true)\n",
      " |    |-- summary: struct (nullable = true)\n",
      " |    |    |-- EWUID: struct (nullable = true)\n",
      " |    |    |    |-- WUID: struct (nullable = true)\n",
      " |    |    |    |    |-- _VALUE: string (nullable = true)\n",
      " |    |    |    |    |-- _coll_id: string (nullable = true)\n",
      " |    |    |    |-- edition: array (nullable = true)\n",
      " |    |    |    |    |-- element: struct (containsNull = true)\n",
      " |    |    |    |    |    |-- _VALUE: string (nullable = true)\n",
      " |    |    |    |    |    |-- _value: string (nullable = true)\n",
      " |    |    |-- conferences: struct (nullable = true)\n",
      " |    |    |    |-- _count: long (nullable = true)\n",
      " |    |    |    |-- conference: array (nullable = true)\n",
      " |    |    |    |    |-- element: struct (containsNull = true)\n",
      " |    |    |    |    |    |-- _conf_id: long (nullable = true)\n",
      " |    |    |    |    |    |-- conf_dates: struct (nullable = true)\n",
      " |    |    |    |    |    |    |-- _count: long (nullable = true)\n",
      " |    |    |    |    |    |    |-- conf_date: struct (nullable = true)\n",
      " |    |    |    |    |    |    |    |-- _VALUE: string (nullable = true)\n",
      " |    |    |    |    |    |    |    |-- _conf_end: string (nullable = true)\n",
      " |    |    |    |    |    |    |    |-- _conf_start: string (nullable = true)\n",
      " |    |    |    |    |    |-- conf_infos: struct (nullable = true)\n",
      " |    |    |    |    |    |    |-- _count: long (nullable = true)\n",
      " |    |    |    |    |    |    |-- conf_info: string (nullable = true)\n",
      " |    |    |    |    |    |-- conf_locations: struct (nullable = true)\n",
      " |    |    |    |    |    |    |-- _count: long (nullable = true)\n",
      " |    |    |    |    |    |    |-- conf_location: struct (nullable = true)\n",
      " |    |    |    |    |    |    |    |-- conf_city: string (nullable = true)\n",
      " |    |    |    |    |    |    |    |-- conf_host: string (nullable = true)\n",
      " |    |    |    |    |    |    |    |-- conf_state: string (nullable = true)\n",
      " |    |    |    |    |    |-- conf_titles: struct (nullable = true)\n",
      " |    |    |    |    |    |    |-- _count: long (nullable = true)\n",
      " |    |    |    |    |    |    |-- conf_title: string (nullable = true)\n",
      " |    |    |    |    |    |-- sponsors: struct (nullable = true)\n",
      " |    |    |    |    |    |    |-- _count: long (nullable = true)\n",
      " |    |    |    |    |    |    |-- sponsor: array (nullable = true)\n",
      " |    |    |    |    |    |    |    |-- element: string (containsNull = true)\n",
      " |    |    |-- doctypes: struct (nullable = true)\n",
      " |    |    |    |-- _count: long (nullable = true)\n",
      " |    |    |    |-- doctype: array (nullable = true)\n",
      " |    |    |    |    |-- element: string (containsNull = true)\n",
      " |    |    |-- names: struct (nullable = true)\n",
      " |    |    |    |-- _count: long (nullable = true)\n",
      " |    |    |    |-- name: array (nullable = true)\n",
      " |    |    |    |    |-- element: struct (containsNull = true)\n",
      " |    |    |    |    |    |-- _addr_no: string (nullable = true)\n",
      " |    |    |    |    |    |-- _orcid_id_tr: string (nullable = true)\n",
      " |    |    |    |    |    |-- _r_id_tr: string (nullable = true)\n",
      " |    |    |    |    |    |-- _reprint: string (nullable = true)\n",
      " |    |    |    |    |    |-- _role: string (nullable = true)\n",
      " |    |    |    |    |    |-- _seq_no: long (nullable = true)\n",
      " |    |    |    |    |    |-- display_name: string (nullable = true)\n",
      " |    |    |    |    |    |-- email_addr: string (nullable = true)\n",
      " |    |    |    |    |    |-- first_name: string (nullable = true)\n",
      " |    |    |    |    |    |-- full_name: string (nullable = true)\n",
      " |    |    |    |    |    |-- last_name: string (nullable = true)\n",
      " |    |    |    |    |    |-- suffix: string (nullable = true)\n",
      " |    |    |    |    |    |-- wos_standard: string (nullable = true)\n",
      " |    |    |-- pub_info: struct (nullable = true)\n",
      " |    |    |    |-- _coverdate: string (nullable = true)\n",
      " |    |    |    |-- _has_abstract: string (nullable = true)\n",
      " |    |    |    |-- _issue: string (nullable = true)\n",
      " |    |    |    |-- _part_no: string (nullable = true)\n",
      " |    |    |    |-- _pubmonth: string (nullable = true)\n",
      " |    |    |    |-- _pubtype: string (nullable = true)\n",
      " |    |    |    |-- _pubyear: long (nullable = true)\n",
      " |    |    |    |-- _sortdate: string (nullable = true)\n",
      " |    |    |    |-- _special_issue: string (nullable = true)\n",
      " |    |    |    |-- _supplement: string (nullable = true)\n",
      " |    |    |    |-- _vol: string (nullable = true)\n",
      " |    |    |    |-- page: struct (nullable = true)\n",
      " |    |    |    |    |-- _VALUE: string (nullable = true)\n",
      " |    |    |    |    |-- _begin: string (nullable = true)\n",
      " |    |    |    |    |-- _end: string (nullable = true)\n",
      " |    |    |    |    |-- _page_count: long (nullable = true)\n",
      " |    |    |-- publishers: struct (nullable = true)\n",
      " |    |    |    |-- publisher: struct (nullable = true)\n",
      " |    |    |    |    |-- address_spec: struct (nullable = true)\n",
      " |    |    |    |    |    |-- _addr_no: long (nullable = true)\n",
      " |    |    |    |    |    |-- city: string (nullable = true)\n",
      " |    |    |    |    |    |-- full_address: string (nullable = true)\n",
      " |    |    |    |    |-- names: struct (nullable = true)\n",
      " |    |    |    |    |    |-- _count: long (nullable = true)\n",
      " |    |    |    |    |    |-- name: struct (nullable = true)\n",
      " |    |    |    |    |    |    |-- _addr_no: long (nullable = true)\n",
      " |    |    |    |    |    |    |-- _role: string (nullable = true)\n",
      " |    |    |    |    |    |    |-- _seq_no: long (nullable = true)\n",
      " |    |    |    |    |    |    |-- display_name: string (nullable = true)\n",
      " |    |    |    |    |    |    |-- full_name: string (nullable = true)\n",
      " |    |    |-- titles: struct (nullable = true)\n",
      " |    |    |    |-- _count: long (nullable = true)\n",
      " |    |    |    |-- title: array (nullable = true)\n",
      " |    |    |    |    |-- element: struct (containsNull = true)\n",
      " |    |    |    |    |    |-- _VALUE: string (nullable = true)\n",
      " |    |    |    |    |    |-- _translated: string (nullable = true)\n",
      " |    |    |    |    |    |-- _type: string (nullable = true)\n",
      " |-- sup: long (nullable = true)\n",
      "\n"
     ]
    },
    {
     "data": {
      "text/plain": [
       "df = [UID: string, _r_id_disclaimer: string ... 13 more fields]\n"
      ]
     },
     "metadata": {},
     "output_type": "display_data",
     "source": "user"
    },
    {
     "data": {
      "text/plain": [
       "[UID: string, _r_id_disclaimer: string ... 13 more fields]"
      ]
     },
     "execution_count": 17,
     "metadata": {},
     "output_type": "execute_result"
    }
   ],
   "source": [
    "//val sqlContext = new SQLContext(sc)\n",
    "val df = sqlContext.read\n",
    "  .format(\"com.databricks.spark.xml\")\n",
    "  .option(\"rowTag\", \"REC\")\n",
    "  //.schema(customSchema)\n",
    "  .load(\"/WoSraw/xmlRaw/xmlRaw/*.xml.gz\")\n",
    "\n",
    "df.show(2)\n",
    "df.printSchema()"
   ]
  },
  {
   "cell_type": "code",
   "execution_count": 18,
   "metadata": {},
   "outputs": [],
   "source": [
    "import org.apache.spark.sql.SaveMode\n",
    "df.write.mode(SaveMode.Overwrite)\n",
    ".parquet(\"/WoSraw/parquet\")\n",
    "//WoS2.describe().filter($\"summary\" === \"count\").show"
   ]
  },
  {
   "cell_type": "code",
   "execution_count": 66,
   "metadata": {},
   "outputs": [
    {
     "name": "stdout",
     "output_type": "stream",
     "text": [
      "root\n",
      " |-- UID: string (nullable = true)\n",
      " |-- identifier: array (nullable = true)\n",
      " |    |-- element: struct (containsNull = true)\n",
      " |    |    |-- _VALUE: string (nullable = true)\n",
      " |    |    |-- _type: string (nullable = true)\n",
      " |    |    |-- _value: string (nullable = true)\n",
      " |-- doctype: array (nullable = true)\n",
      " |    |-- element: string (containsNull = true)\n",
      " |-- name: array (nullable = true)\n",
      " |    |-- element: struct (containsNull = true)\n",
      " |    |    |-- _addr_no: string (nullable = true)\n",
      " |    |    |-- _orcid_id_tr: string (nullable = true)\n",
      " |    |    |-- _r_id_tr: string (nullable = true)\n",
      " |    |    |-- _reprint: string (nullable = true)\n",
      " |    |    |-- _role: string (nullable = true)\n",
      " |    |    |-- _seq_no: long (nullable = true)\n",
      " |    |    |-- display_name: string (nullable = true)\n",
      " |    |    |-- email_addr: string (nullable = true)\n",
      " |    |    |-- first_name: string (nullable = true)\n",
      " |    |    |-- full_name: string (nullable = true)\n",
      " |    |    |-- last_name: string (nullable = true)\n",
      " |    |    |-- suffix: string (nullable = true)\n",
      " |    |    |-- wos_standard: string (nullable = true)\n",
      " |-- titles: struct (nullable = true)\n",
      " |    |-- _count: long (nullable = true)\n",
      " |    |-- title: array (nullable = true)\n",
      " |    |    |-- element: struct (containsNull = true)\n",
      " |    |    |    |-- _VALUE: string (nullable = true)\n",
      " |    |    |    |-- _translated: string (nullable = true)\n",
      " |    |    |    |-- _type: string (nullable = true)\n",
      " |-- conference: array (nullable = true)\n",
      " |    |-- element: struct (containsNull = true)\n",
      " |    |    |-- _conf_id: long (nullable = true)\n",
      " |    |    |-- conf_dates: struct (nullable = true)\n",
      " |    |    |    |-- _count: long (nullable = true)\n",
      " |    |    |    |-- conf_date: struct (nullable = true)\n",
      " |    |    |    |    |-- _VALUE: string (nullable = true)\n",
      " |    |    |    |    |-- _conf_end: string (nullable = true)\n",
      " |    |    |    |    |-- _conf_start: string (nullable = true)\n",
      " |    |    |-- conf_infos: struct (nullable = true)\n",
      " |    |    |    |-- _count: long (nullable = true)\n",
      " |    |    |    |-- conf_info: string (nullable = true)\n",
      " |    |    |-- conf_locations: struct (nullable = true)\n",
      " |    |    |    |-- _count: long (nullable = true)\n",
      " |    |    |    |-- conf_location: struct (nullable = true)\n",
      " |    |    |    |    |-- conf_city: string (nullable = true)\n",
      " |    |    |    |    |-- conf_host: string (nullable = true)\n",
      " |    |    |    |    |-- conf_state: string (nullable = true)\n",
      " |    |    |-- conf_titles: struct (nullable = true)\n",
      " |    |    |    |-- _count: long (nullable = true)\n",
      " |    |    |    |-- conf_title: string (nullable = true)\n",
      " |    |    |-- sponsors: struct (nullable = true)\n",
      " |    |    |    |-- _count: long (nullable = true)\n",
      " |    |    |    |-- sponsor: array (nullable = true)\n",
      " |    |    |    |    |-- element: string (containsNull = true)\n",
      " |-- address_name: array (nullable = true)\n",
      " |    |-- element: struct (containsNull = true)\n",
      " |    |    |-- address_spec: struct (nullable = true)\n",
      " |    |    |    |-- _addr_no: long (nullable = true)\n",
      " |    |    |    |-- city: string (nullable = true)\n",
      " |    |    |    |-- country: string (nullable = true)\n",
      " |    |    |    |-- full_address: string (nullable = true)\n",
      " |    |    |    |-- organizations: struct (nullable = true)\n",
      " |    |    |    |    |-- _count: long (nullable = true)\n",
      " |    |    |    |    |-- organization: array (nullable = true)\n",
      " |    |    |    |    |    |-- element: struct (containsNull = true)\n",
      " |    |    |    |    |    |    |-- _VALUE: string (nullable = true)\n",
      " |    |    |    |    |    |    |-- _pref: string (nullable = true)\n",
      " |    |    |    |-- state: string (nullable = true)\n",
      " |    |    |    |-- street: string (nullable = true)\n",
      " |    |    |    |-- suborganizations: struct (nullable = true)\n",
      " |    |    |    |    |-- _count: long (nullable = true)\n",
      " |    |    |    |    |-- suborganization: array (nullable = true)\n",
      " |    |    |    |    |    |-- element: string (containsNull = true)\n",
      " |    |    |    |-- zip: array (nullable = true)\n",
      " |    |    |    |    |-- element: struct (containsNull = true)\n",
      " |    |    |    |    |    |-- _VALUE: string (nullable = true)\n",
      " |    |    |    |    |    |-- _location: string (nullable = true)\n",
      " |    |    |-- names: struct (nullable = true)\n",
      " |    |    |    |-- _count: long (nullable = true)\n",
      " |    |    |    |-- name: array (nullable = true)\n",
      " |    |    |    |    |-- element: struct (containsNull = true)\n",
      " |    |    |    |    |    |-- _addr_no: long (nullable = true)\n",
      " |    |    |    |    |    |-- _orcid_id_tr: string (nullable = true)\n",
      " |    |    |    |    |    |-- _r_id: string (nullable = true)\n",
      " |    |    |    |    |    |-- _r_id_tr: string (nullable = true)\n",
      " |    |    |    |    |    |-- _reprint: string (nullable = true)\n",
      " |    |    |    |    |    |-- _role: string (nullable = true)\n",
      " |    |    |    |    |    |-- _seq_no: long (nullable = true)\n",
      " |    |    |    |    |    |-- display_name: string (nullable = true)\n",
      " |    |    |    |    |    |-- email_addr: string (nullable = true)\n",
      " |    |    |    |    |    |-- first_name: string (nullable = true)\n",
      " |    |    |    |    |    |-- full_name: string (nullable = true)\n",
      " |    |    |    |    |    |-- last_name: string (nullable = true)\n",
      " |    |    |    |    |    |-- suffix: string (nullable = true)\n",
      " |    |    |    |    |    |-- wos_standard: string (nullable = true)\n",
      " |-- abstract_text: struct (nullable = true)\n",
      " |    |-- _count: long (nullable = true)\n",
      " |    |-- p: array (nullable = true)\n",
      " |    |    |-- element: string (containsNull = true)\n",
      " |-- keyword: array (nullable = true)\n",
      " |    |-- element: string (containsNull = true)\n",
      " |-- reference: array (nullable = true)\n",
      " |    |-- element: struct (containsNull = true)\n",
      " |    |    |-- art_no: string (nullable = true)\n",
      " |    |    |-- assignee: string (nullable = true)\n",
      " |    |    |-- citedAuthor: string (nullable = true)\n",
      " |    |    |-- citedTitle: string (nullable = true)\n",
      " |    |    |-- citedWork: string (nullable = true)\n",
      " |    |    |-- doi: string (nullable = true)\n",
      " |    |    |-- i: array (nullable = true)\n",
      " |    |    |    |-- element: string (containsNull = true)\n",
      " |    |    |-- page: string (nullable = true)\n",
      " |    |    |-- patent_no: string (nullable = true)\n",
      " |    |    |-- sub: array (nullable = true)\n",
      " |    |    |    |-- element: string (containsNull = true)\n",
      " |    |    |-- sup: array (nullable = true)\n",
      " |    |    |    |-- element: string (containsNull = true)\n",
      " |    |    |-- uid: string (nullable = true)\n",
      " |    |    |-- volume: string (nullable = true)\n",
      " |    |    |-- year: string (nullable = true)\n",
      " |-- pub_info: struct (nullable = true)\n",
      " |    |-- _coverdate: string (nullable = true)\n",
      " |    |-- _has_abstract: string (nullable = true)\n",
      " |    |-- _issue: string (nullable = true)\n",
      " |    |-- _part_no: string (nullable = true)\n",
      " |    |-- _pubmonth: string (nullable = true)\n",
      " |    |-- _pubtype: string (nullable = true)\n",
      " |    |-- _pubyear: long (nullable = true)\n",
      " |    |-- _sortdate: string (nullable = true)\n",
      " |    |-- _special_issue: string (nullable = true)\n",
      " |    |-- _supplement: string (nullable = true)\n",
      " |    |-- _vol: string (nullable = true)\n",
      " |    |-- page: struct (nullable = true)\n",
      " |    |    |-- _VALUE: string (nullable = true)\n",
      " |    |    |-- _begin: string (nullable = true)\n",
      " |    |    |-- _end: string (nullable = true)\n",
      " |    |    |-- _page_count: long (nullable = true)\n",
      " |-- publishers: struct (nullable = true)\n",
      " |    |-- publisher: struct (nullable = true)\n",
      " |    |    |-- address_spec: struct (nullable = true)\n",
      " |    |    |    |-- _addr_no: long (nullable = true)\n",
      " |    |    |    |-- city: string (nullable = true)\n",
      " |    |    |    |-- full_address: string (nullable = true)\n",
      " |    |    |-- names: struct (nullable = true)\n",
      " |    |    |    |-- _count: long (nullable = true)\n",
      " |    |    |    |-- name: struct (nullable = true)\n",
      " |    |    |    |    |-- _addr_no: long (nullable = true)\n",
      " |    |    |    |    |-- _role: string (nullable = true)\n",
      " |    |    |    |    |-- _seq_no: long (nullable = true)\n",
      " |    |    |    |    |-- display_name: string (nullable = true)\n",
      " |    |    |    |    |-- full_name: string (nullable = true)\n",
      " |-- grant: array (nullable = true)\n",
      " |    |-- element: struct (containsNull = true)\n",
      " |    |    |-- grant_agency: string (nullable = true)\n",
      " |    |    |-- grant_ids: struct (nullable = true)\n",
      " |    |    |    |-- _count: long (nullable = true)\n",
      " |    |    |    |-- grant_id: array (nullable = true)\n",
      " |    |    |    |    |-- element: string (containsNull = true)\n",
      "\n"
     ]
    },
    {
     "data": {
      "text/plain": [
       "WoS = [UID: string, _r_id_disclaimer: string ... 13 more fields]\n",
       "WoS2 = [UID: string, identifier: array<struct<_VALUE:string,_type:string,_value:string>> ... 11 more fields]\n"
      ]
     },
     "metadata": {},
     "output_type": "display_data",
     "source": "user"
    },
    {
     "data": {
      "text/plain": [
       "[UID: string, identifier: array<struct<_VALUE:string,_type:string,_value:string>> ... 11 more fields]"
      ]
     },
     "execution_count": 66,
     "metadata": {},
     "output_type": "execute_result"
    }
   ],
   "source": [
    "val WoS = spark.read.format(\"parquet\").load(\"/WoSraw/parquet/*.parquet\")\n",
    "\n",
    "val WoS2 = WoS.select(\"UID\",\"dynamic_data.cluster_related.identifiers.identifier\",\"static_data.summary.doctypes.doctype\",\n",
    "                      \"static_data.summary.names.name\",\"static_data.summary.titles\",\"static_data.summary.conferences.conference\",\n",
    "                      \"static_data.fullrecord_metadata.addresses.address_name\",\"static_data.fullrecord_metadata.abstracts.abstract.abstract_text\",\n",
    "                      \"static_data.fullrecord_metadata.keywords.keyword\",\n",
    "                      \"static_data.fullrecord_metadata.references.reference\",\n",
    "                      \"static_data.summary.pub_info\",\"static_data.summary.publishers\",\"static_data.fullrecord_metadata.fund_ack.grants.grant\")\n",
    "WoS2.printSchema"
   ]
  },
  {
   "cell_type": "code",
   "execution_count": 64,
   "metadata": {},
   "outputs": [],
   "source": [
    "WoS2.write.mode(SaveMode.Overwrite).json(\"/WoSraw/json\")"
   ]
  },
  {
   "cell_type": "code",
   "execution_count": 61,
   "metadata": {},
   "outputs": [
    {
     "name": "stdout",
     "output_type": "stream",
     "text": [
      "+-------------------+------------------------------------------------------------------------------------------------+------------------+--------------------------------------------------------------------------------------------------------------------------------------------------------------------------------------------------------------------------------------------------------------------------------+------------------------------------------------------------------------------------------------------------------------------------------------------------------------------------------------------------------------------------------------------------------------------------------------------------------------------+----------+------------------------------------------------------------------------------------------------------------------------------------------------------------------------------------------------------------------+-------------+-------+--------------------------------------------------------------------------------------------------------------------------------------------------------------------------------------------------------------------------------------------------------------------------------------------------------------------------------------------------------------------------------------------------------------------------------------------------------------------------------------------------------------------------------------------------------------------------------------------------------------------------------------------------------------------------------------------------------------------------------------------------------+-------------------------------------------------------------------------------+---------------------------------------------------------------------------------------------------------------------------------------------------------------------------------------------------------+-----+\n",
      "|UID                |identifier                                                                                      |doctype           |name                                                                                                                                                                                                                                                                            |titles                                                                                                                                                                                                                                                                                                                        |conference|address_name                                                                                                                                                                                                      |abstract_text|keyword|uid                                                                                                                                                                                                                                                                                                                                                                                                                                                                                                                                                                                                                                                                                                                                                     |pub_info                                                                       |publishers                                                                                                                                                                                               |grant|\n",
      "+-------------------+------------------------------------------------------------------------------------------------+------------------+--------------------------------------------------------------------------------------------------------------------------------------------------------------------------------------------------------------------------------------------------------------------------------+------------------------------------------------------------------------------------------------------------------------------------------------------------------------------------------------------------------------------------------------------------------------------------------------------------------------------+----------+------------------------------------------------------------------------------------------------------------------------------------------------------------------------------------------------------------------+-------------+-------+--------------------------------------------------------------------------------------------------------------------------------------------------------------------------------------------------------------------------------------------------------------------------------------------------------------------------------------------------------------------------------------------------------------------------------------------------------------------------------------------------------------------------------------------------------------------------------------------------------------------------------------------------------------------------------------------------------------------------------------------------------+-------------------------------------------------------------------------------+---------------------------------------------------------------------------------------------------------------------------------------------------------------------------------------------------------+-----+\n",
      "|WOS:A1985AQZ3200328|[[, accession_no, AQZ32], [, issn, 0018-9294]]                                                  |[Meeting Abstract]|[[,,,, author, 1, CORNWELL, AC,, AC, CORNWELL, AC, CORNWELL,, CORNWELL, AC]]                                                                                                                                                                                                    |[6, [[IEEE TRANSACTIONS ON BIOMEDICAL ENGINEERING,, source], [IEEE T BIO-MED ENG,, source_abbrev], [IEEE Trans. Biomed. Eng.,, abbrev_iso], [IEEE BIOMED,, abbrev_11], [IEEE TRANS BIOMED ENG,, abbrev_29], [THEORETICAL OVERVIEW AND RECENT ADVANCES IN SLEEP RESEARCH,, item]]]                                             |null      |null                                                                                                                                                                                                              |null         |null   |null                                                                                                                                                                                                                                                                                                                                                                                                                                                                                                                                                                                                                                                                                                                                                    |[1985, N, 10,,, Journal, 1985, 1985-01-01,,, 32, [899-899, 899, 899, 1]]       |[[[1, NEW YORK, 345 E 47TH ST, NEW YORK, NY 10017-2394], [1, [1, publisher, 1, IEEE-INST ELECTRICAL ELECTRONICS ENGINEERS INC, IEEE-INST ELECTRICAL ELECTRONICS ENGINEERS INC]]]]                        |null |\n",
      "|WOS:A1985ACW7200011|[[, accession_no, ACW72]]                                                                       |[Letter]          |[[,,,, author, 1, KISS, I,,, KISS, I, KISS, I, KISS, I]]                                                                                                                                                                                                                        |[5, [[HUMAN SYSTEMS MANAGEMENT,, source], [HUM SYST MANAGE,, source_abbrev], [HUMAN SYST,, abbrev_11], [HUM SYST MANAG,, abbrev_29], [HSM - EUROPE CALLING,, item]]]                                                                                                                                                          |null      |null                                                                                                                                                                                                              |null         |null   |[WOS:A1985ACW7200011.2, WOS:A1985ACW7200011.1, WOS:A1985ACW7200011.3]                                                                                                                                                                                                                                                                                                                                                                                                                                                                                                                                                                                                                                                                                   |[1985, N, 1,,, Journal, 1985, 1985-01-01,,, 5, [81-82, 81, 82, 2]]             |[[[1, AMSTERDAM, VAN DIEMENSTRAAT 94, 1013 CN AMSTERDAM, NETHERLANDS], [1, [1, publisher, 1, IOS PRESS, IOS PRESS]]]]                                                                                    |null |\n",
      "|WOS:A1985AWJ5900008|[[, accession_no, AWJ59], [, issn, 0021-4795], [, eissn, 1880-7577]]                            |[Article]         |[[,,, Y, author, 1, SANO, Y,, Y, SANO, Y, SANO,, SANO, Y], [,,,, author, 2, SASAYA, T,, T, SASAYA, T, SASAYA,, SASAYA, T]]                                                                                                                                                      |[6, [[MOKUZAI GAKKAISHI,, source], [MOKUZAI GAKKAISHI,, source_abbrev], [Mokuzai Gakkaishi,, abbrev_iso], [MOKUZAI GAK,, abbrev_11], [MOKUZAI GAKKAISHI,, abbrev_29], [STUDIES ON PHENORGANOSOLV PULPING .1. DELIGNIFICATION OF WOODS BY MODIFIED ORGANOSOLV PULPING,, item]]]                                                |null      |null                                                                                                                                                                                                              |null         |null   |[WOS:A1974T822900015, WOS:A1985AWJ5900008.5, WOS:A1970F311600009, WOS:A1980KW57000002, WOS:A1985AJX5300008]                                                                                                                                                                                                                                                                                                                                                                                                                                                                                                                                                                                                                                             |[1985, N, 10,,, Journal, 1985, 1985-01-01,,, 31, [836-842, 836, 842, 7]]       |[[[1, TOKYO, 1-1-17, MUKOGAOKA, BUNKYO-KU, TOKYO, 113-0023, JAPAN], [1, [1, publisher, 1, JAPAN WOOD RES SOC, JAPAN WOOD RES SOC]]]]                                                                     |null |\n",
      "|WOS:A1985AVS3400010|[[, accession_no, AVS34], [, issn, 0039-3320]]                                                  |[Article]         |[[,,, Y, author, 1, SOVCIKOVA, E,, E, SOVCIKOVA, E, SOVCIKOVA,, SOVCIKOVA, E], [,,,, author, 2, BRONIS, M,, M, BRONIS, M, BRONIS,, BRONIS, M]]                                                                                                                                  |[6, [[STUDIA PSYCHOLOGICA,, source], [STUD PSYCHOL,, source_abbrev], [Studia Psychol.,, abbrev_iso], [STUD PSYCHO,, abbrev_11], [STUD PSYCHOL,, abbrev_29], [EVALUATION OF MENTAL WORKLOAD BY STROOP COLOR-WORD TEST,, item]]]                                                                                                |null      |null                                                                                                                                                                                                              |null         |null   |[WOS:A1970H048500002, WOS:A1969Y616300003, WOS:A1985AVS3400010.11, BCI:BCI198273049941, WOS:A1985AVS3400010.1, WOS:A1973R872400005, WOS:A1985AVS3400010.7, WOS:A1969Y616100009, WOS:A1972O495500009, WOS:A1985AVS3400010.6, WOS:A1968ZL19500008, WOS:A1976BP06300003, WOS:A1985AVS3400010.15, WOS:A1985AVS3400010.14, WOS:A19667442900003, WOS:000188522600055]                                                                                                                                                                                                                                                                                                                                                                                         |[1985, N, 3,,, Journal, 1985, 1985-01-01,,, 27, [245-248, 245, 248, 4]]        |[[[1, BRATISLAVA, DUBRAVSKA CESTA 9, BRATISLAVA, 813 64, SLOVAK REPUBLIC], [1, [1, publisher, 1, SLOVAK ACAD SCIENCES INST EXPERIMENTAL PSYCHOLOGY, SLOVAK ACAD SCIENCES INST EXPERIMENTAL PSYCHOLOGY]]]]|null |\n",
      "|WOS:A1985AYJ3100008|[[, accession_no, AYJ31], [, issn, 0361-6843], [, xref_doi, 10.1111/j.1471-6402.1985.tb00877.x]]|[Article]         |[[,,, Y, author, 1, BRIDGES, JS,, JS, BRIDGES, JS, BRIDGES,, BRIDGES, JS], [,,,, author, 2, BOWER, MS,, MS, BOWER, MS, BOWER,, BOWER, MS]]                                                                                                                                      |[6, [[PSYCHOLOGY OF WOMEN QUARTERLY,, source], [PSYCHOL WOMEN QUART,, source_abbrev], [Psychol. Women Q.,, abbrev_iso], [PSYCHOL WOM,, abbrev_11], [PSYCHOL WOMEN QUART,, abbrev_29], [THE EFFECTS OF PERCEIVED JOB AVAILABILITY FOR WOMEN ON COLLEGE WOMENS ATTITUDES TOWARD PRESTIGIOUS MALE-DOMINATED OCCUPATIONS,, item]]]|null      |null                                                                                                                                                                                                              |null         |null   |[WOS:A1974V041600006, WOS:A1985AYJ3100008.4, WOS:A1980KL73300005, WOS:A1985AYJ3100008.16, WOS:A1979JD92800001, WOS:A1979HJ78300163, WOS:A1985AYJ3100008.20, WOS:A1975AP78500001, WOS:A1985AYJ3100008.15, WOS:A1985AYJ3100008.5, WOS:A1979GW00400007, WOS:A1980KN19500007, WOS:A1981MD44000006, WOS:A1974V027500011, WOS:A1985AYJ3100008.13, WOS:A1975BC38400003, WOS:A1985AYJ3100008.7, WOS:A1985AYJ3100008.18, WOS:A1985AYJ3100008.1, WOS:A1985AYJ3100008.3, WOS:A1979HJ02500007]                                                                                                                                                                                                                                                                      |[JUN 1985, N, 2,, JUN, Journal, 1985, 1985-06-01,,, 9, [265-276, 265, 276, 12]]|[[[1, NEW YORK, 40 WEST 20TH STREET, NEW YORK, NY 10011-4211], [1, [1, publisher, 1, CAMBRIDGE UNIV PRESS, CAMBRIDGE UNIV PRESS]]]]                                                                      |null |\n",
      "|WOS:A1985ASV9200016|[[, accession_no, ASV92], [, issn, 0020-7713], [, xref_doi, 10.1099/00207713-35-4-489]]         |[Article]         |[[,,, Y, author, 1, HILL, AC,, AC, HILL, AC, HILL,, HILL, AC]]                                                                                                                                                                                                                  |[6, [[INTERNATIONAL JOURNAL OF SYSTEMATIC BACTERIOLOGY,, source], [INT J SYST BACTERIOL,, source_abbrev], [Int. J. Syst. Bacteriol.,, abbrev_iso], [INT J SY B,, abbrev_11], [INT J SYST BACT,, abbrev_29], [MYCOPLASMA-TESTUDINIS, A NEW SPECIES ISOLATED FROM A TORTOISE,, item]]]                                          |null      |null                                                                                                                                                                                                              |null         |null   |[WOS:A1959WF20000015, WOS:A1971J381000013, WOS:A1985ASV9200016.5, WOS:A1977EE25600010, WOS:A19668079900006, WOS:A1977DP87600006, WOS:A1975AD97700012, WOS:A1968A905300014, WOS:A1973R264500014, WOS:A1971J134000008, WOS:A1970G085800002, WOS:A1971L640500006, WOS:A1985ASV9200016.1, WOS:A19668002400002, WOS:A1970I631900028, WOS:A1985ASV9200016.10, WOS:A19656530900007, BCI:BCI197152134315, WOS:A1968C191500005, BCI:BCI19684900052230, WOS:A1969D543000020, WOS:A19625802B00009, WOS:A1975AD97700013, BCI:BCI197051073385, WOS:A1976CH00500011, WOS:A19645378B00007, WOS:A1985ASV9200016.4, WOS:A19679599700055, WOS:A1978FC64000006, WOS:A1967A315600001, WOS:A1985ASV9200016.15, WOS:A19667575600010, WOS:A1951XV16100018, WOS:A1967A029300008]|[1985, N, 4,,, Journal, 1985, 1985-01-01,,, 35, [489-492, 489, 492, 4]]        |[[[1, WASHINGTON, 1325 MASSACHUSETTS AVENUE, NW, WASHINGTON, DC 20005-4171], [1, [1, publisher, 1, AMER SOC MICROBIOLOGY, AMER SOC MICROBIOLOGY]]]]                                                      |null |\n",
      "|WOS:A1985ATS6500007|[[, accession_no, ATS65], [, issn, 0090-3973]]                                                  |[Article]         |[[,,, Y, author, 1, COOK, TS,, TS, COOK, TS, COOK,, COOK, TS]]                                                                                                                                                                                                                  |[6, [[JOURNAL OF TESTING AND EVALUATION,, source], [J TEST EVAL,, source_abbrev], [J. Test. Eval.,, abbrev_iso], [J TEST EVAL,, abbrev_11], [J TEST EVAL,, abbrev_29], [EFFECT OF R-EPSILON ON CYCLIC STRESS-STRAIN BEHAVIOR OF INCONEL-718,, item]]]                                                                         |null      |null                                                                                                                                                                                                              |null         |null   |[WOS:A1982NY42100005, WOS:A1985ATS6500007.1, WOS:A1985ATS6500007.5, WOS:A1985ATS6500007.2, WOS:A1968A744800002, WOS:A1969C898700012, WOS:A1985ATS6500007.4]                                                                                                                                                                                                                                                                                                                                                                                                                                                                                                                                                                                             |[1985, N, 6,,, Journal, 1985, 1985-01-01,,, 13, [434-440, 434, 440, 7]]        |[[[1, W CONSHOHOCKEN, 100 BARR HARBOR DR, W CONSHOHOCKEN, PA 19428-2959], [1, [1, publisher, 1, AMER SOC TESTING MATERIALS, AMER SOC TESTING MATERIALS]]]]                                               |null |\n",
      "|WOS:A1985AEV2400004|[[, accession_no, AEV24], [, issn, 0002-8703], [, xref_doi, 10.1016/0002-8703(85)90633-7]]      |[Article]         |[[,,,, author, 1, SLYSH, S,, S, SLYSH, S, SLYSH,, SLYSH, S], [,,,, author, 2, GOLDBERG, S,, S, GOLDBERG, S, GOLDBERG,, GOLDBERG, S], [,,,, author, 3, DERVAN, JP,, JP, DERVAN, JP, DERVAN,, DERVAN, JP], [,,,, author, 4, ZALEWSKI, A,, A, ZALEWSKI, A, ZALEWSKI,, ZALEWSKI, A]]|[6, [[AMERICAN HEART JOURNAL,, source], [AM HEART J,, source_abbrev], [Am. Heart J.,, abbrev_iso], [AM HEART J,, abbrev_11], [AMER HEART J,, abbrev_29], [UNSTABLE ANGINA AND EVOLVING MYOCARDIAL-INFARCTION FOLLOWING CORONARY-BYPASS SURGERY - PATHOGENESIS AND TREATMENT WITH INTERVENTIONAL CATHETERIZATION,, item]]]     |null      |[[[1, PHILADELPHIA, USA, THOMAS JEFFERSON UNIV,CARDIAC CATHETERIZAT LAB,PHILADELPHIA,PA 19107, [2, [[THOMAS JEFFERSON UNIV,], [Thomas Jefferson University, Y]]], PA, CARDIAC CATHETERIZAT LAB,, [[19107, AP]]],]]|null         |null   |[WOS:A1981LC40400037, WOS:A1981LQ24300004, WOS:A1978FA22200001, WOS:A1974T909600002, WOS:A1982MW84100029, WOS:A1982NS79200026, WOS:A1978FM12800032, WOS:A1983RD86300001, WOS:A1978FM12800021, WOS:A1980KN19700028, WOS:A1977DE90000002, WOS:A1984SG55500003, WOS:A1983RJ81500018]                                                                                                                                                                                                                                                                                                                                                                                                                                                                       |[1985, N, 4,,, Journal, 1985, 1985-01-01,,, 109, [744-752, 744, 752, 9]]       |[[[1, ST LOUIS, 11830 WESTLINE INDUSTRIAL DR, ST LOUIS, MO 63146-3318], [1, [1, publisher, 1, MOSBY-YEAR BOOK INC, MOSBY-YEAR BOOK INC]]]]                                                               |null |\n",
      "|WOS:A1985AHT6800018|[[, accession_no, AHT68], [, issn, 0021-9606], [, xref_doi, 10.1063/1.448842]]                  |[Article]         |[[,,, Y, author, 1, HERBST, E,, E, HERBST, E, HERBST,, HERBST, E]]                                                                                                                                                                                                              |[6, [[JOURNAL OF CHEMICAL PHYSICS,, source], [J CHEM PHYS,, source_abbrev], [J. Chem. Phys.,, abbrev_iso], [J CHEM PHYS,, abbrev_11], [J CHEM PHYS,, abbrev_29], [A MODEL FOR COMPETITIVE BINARY AND TERNARY ION MOLECULE REACTIONS,, item]]]                                                                                 |null      |null                                                                                                                                                                                                              |null         |null   |[WOS:A1978ER31600006, WOS:A1971L046800018, WOS:A1985AHT6800018.13, WOS:A1983RA42400021, WOS:A1977DZ64100006, WOS:A1985AHT6800018.7, WOS:A1977CZ25000010, WOS:A1981LE27100025, WOS:A1971J270000026, WOS:A1985AHT6800018.21, INSPEC:587871, WOS:A1980JK06800059, WOS:A1979HT16800004, WOS:A1983QF28700003, WOS:A1979HL54400007, WOS:A1982PT66400003, WOS:A19634168B00033, WOS:A1957WF50200010, WOS:A1977CZ56500003, WOS:A1985AHT6800018.14, WOS:A1980KD11500028, WOS:A1971K965700007, WOS:A1981ME67700003]                                                                                                                                                                                                                                                |[1985, N, 9,,, Journal, 1985, 1985-01-01,,, 82, [4017-4021, 4017, 4021, 5]]    |[[[1, WOODBURY, CIRCULATION FULFILLMENT DIV, 500 SUNNYSIDE BLVD, WOODBURY, NY 11797-2999], [1, [1, publisher, 1, AMER INST PHYSICS, AMER INST PHYSICS]]]]                                                |null |\n",
      "|WOS:A1985ASV0800026|[[, accession_no, ASV08], [, issn, 0021-1583]]                                                  |[Article]         |[[,,, Y, author, 1, INUI, T,, T, INUI, T, INUI,, INUI, T], [,,,, author, 2, ADANIYA, T,, T, ADANIYA, T, ADANIYA,, ADANIYA, T]]                                                                                                                                                  |[5, [[TRANSACTIONS OF THE IRON AND STEEL INSTITUTE OF JAPAN,, source], [T IRON STEEL I JPN,, source_abbrev], [T IRON ST I,, abbrev_11], [TRANS IRON STEEL INST JPN,, abbrev_29], [ELECTROPLATED SHEET STEELS,, item]]]                                                                                                        |null      |[[[1, KAWASAKI, JAPAN, NIPPON KOKAN KK,KAWASAKI 210,JAPAN, [1, [[NIPPON KOKAN KK,]]],,,, [[210, AC]]],]]                                                                                                          |null         |null   |null                                                                                                                                                                                                                                                                                                                                                                                                                                                                                                                                                                                                                                                                                                                                                    |[1985, N, 8,,, Journal, 1985, 1985-01-01,,, 25, [784-788, 784, 788, 5]]        |[[[1, TOKYO, 9-4 OTEMACHI 1-CHOME CHIYODA-KU, TOKYO 100, JAPAN], [1, [1, publisher, 1, IRON STEEL INST JAPAN KEIDANREN KAIKAN, IRON STEEL INST JAPAN KEIDANREN KAIKAN]]]]                                |null |\n",
      "+-------------------+------------------------------------------------------------------------------------------------+------------------+--------------------------------------------------------------------------------------------------------------------------------------------------------------------------------------------------------------------------------------------------------------------------------+------------------------------------------------------------------------------------------------------------------------------------------------------------------------------------------------------------------------------------------------------------------------------------------------------------------------------+----------+------------------------------------------------------------------------------------------------------------------------------------------------------------------------------------------------------------------+-------------+-------+--------------------------------------------------------------------------------------------------------------------------------------------------------------------------------------------------------------------------------------------------------------------------------------------------------------------------------------------------------------------------------------------------------------------------------------------------------------------------------------------------------------------------------------------------------------------------------------------------------------------------------------------------------------------------------------------------------------------------------------------------------+-------------------------------------------------------------------------------+---------------------------------------------------------------------------------------------------------------------------------------------------------------------------------------------------------+-----+\n",
      "only showing top 10 rows\n",
      "\n"
     ]
    }
   ],
   "source": [
    "WoS2.show(10, false)"
   ]
  },
  {
   "cell_type": "code",
   "execution_count": 62,
   "metadata": {},
   "outputs": [
    {
     "name": "stdout",
     "output_type": "stream",
     "text": [
      "+---------------+----------------------+-------------------+----------------+------------------+----------------------+------------------------+-------------------------+-------------------+---------------+--------------------+----------------------+-----------------+\n",
      "|UID_nulls_count|identifier_nulls_count|doctype_nulls_count|name_nulls_count|titles_nulls_count|conference_nulls_count|address_name_nulls_count|abstract_text_nulls_count|keyword_nulls_count|uid_nulls_count|pub_info_nulls_count|publishers_nulls_count|grant_nulls_count|\n",
      "+---------------+----------------------+-------------------+----------------+------------------+----------------------+------------------------+-------------------------+-------------------+---------------+--------------------+----------------------+-----------------+\n",
      "|              0|                401070|                  0|               0|                 0|              62340301|                22434779|                 38504474|           50059771|       15389046|                   0|                295887|         62664857|\n",
      "+---------------+----------------------+-------------------+----------------+------------------+----------------------+------------------------+-------------------------+-------------------+---------------+--------------------+----------------------+-----------------+\n",
      "\n"
     ]
    }
   ],
   "source": [
    "import org.apache.spark.sql.{Row, Column, SQLContext}\n",
    "import org.apache.spark.sql.functions._\n",
    "//WoS2.filter(WoS2(\"conference\").isNull).count()\n",
    "//WoS2.filter((WoS2($\"conference\") === \"\") || WoS2($\"conference\").isNull || WoS2($\"conference\").isNaN).count()\n",
    "WoS2.select(WoS2.columns.map(colName => {\n",
    "    count(when(col(colName).isNull, true)) as s\"${colName}_nulls_count\"\n",
    "  }): _*)\n",
    ".show(10)"
   ]
  },
  {
   "cell_type": "code",
   "execution_count": 30,
   "metadata": {},
   "outputs": [
    {
     "name": "stdout",
     "output_type": "stream",
     "text": [
      "+---------------------------------------------------+--------+\n",
      "|doctype                                            |count   |\n",
      "+---------------------------------------------------+--------+\n",
      "|[Software Review, Book Chapter]                    |1       |\n",
      "|[Script]                                           |2789    |\n",
      "|[Editorial Material, Book Chapter]                 |170877  |\n",
      "|[Biographical-Item]                                |128018  |\n",
      "|[Abstract of Published Item]                       |13433   |\n",
      "|[Article, Book Chapter]                            |1140635 |\n",
      "|[Correction, Addition]                             |146952  |\n",
      "|[Discussion]                                       |80417   |\n",
      "|[Bibliography]                                     |12870   |\n",
      "|[Review]                                           |1776398 |\n",
      "|[Correction, Retracted Publication]                |62      |\n",
      "|[Item About an Individual]                         |88287   |\n",
      "|[Article, Retracted Publication]                   |4526    |\n",
      "|[Note]                                             |1471638 |\n",
      "|[Article, Proceedings Paper, Retracted Publication]|114     |\n",
      "|[Article, Book Chapter, Retracted Publication]     |2       |\n",
      "|[Music Performance Review]                         |66046   |\n",
      "|[Biographical-Item, Book]                          |13      |\n",
      "|[Letter, Retracted Publication]                    |52      |\n",
      "|[Film Review]                                      |66795   |\n",
      "|[Meeting Abstract, Retracted Publication]          |29      |\n",
      "|[Poetry]                                           |281161  |\n",
      "|[Editorial Material]                               |2915321 |\n",
      "|[Letter, Book Chapter]                             |145     |\n",
      "|[Retraction, Book Chapter]                         |2       |\n",
      "|[Chronology]                                       |1210    |\n",
      "|[Editorial Material, Book]                         |61      |\n",
      "|[Book]                                             |96472   |\n",
      "|[Database Review]                                  |1495    |\n",
      "|[Bibliography, Book]                               |1       |\n",
      "|[Poetry, Book Chapter]                             |89      |\n",
      "|[Proceedings Paper, Book Chapter]                  |44      |\n",
      "|[Meeting Abstract]                                 |7863768 |\n",
      "|[Software Review]                                  |15719   |\n",
      "|[Correction, Book Chapter]                         |265     |\n",
      "|[Article, Early Access]                            |1040    |\n",
      "|[Reprint]                                          |17046   |\n",
      "|[Biographical-Item, Retracted Publication]         |1       |\n",
      "|[Correction]                                       |269085  |\n",
      "|[Fiction, Creative Prose]                          |48671   |\n",
      "|[Excerpt, Book Chapter]                            |1       |\n",
      "|[Dance Performance Review]                         |24202   |\n",
      "|[Editorial Material, Retracted Publication]        |57      |\n",
      "|[Music Score Review]                               |18341   |\n",
      "|[Retraction]                                       |3201    |\n",
      "|[Letter]                                           |2338946 |\n",
      "|[Record Review]                                    |74117   |\n",
      "|[TV Review, Radio Review]                          |9190    |\n",
      "|[News Item]                                        |538820  |\n",
      "|[Meeting Summary]                                  |25      |\n",
      "|[Biographical-Item, Book Chapter]                  |2222    |\n",
      "|[Book Review, Retracted Publication]               |7       |\n",
      "|[Article, Proceedings Paper]                       |1985328 |\n",
      "|[Proceedings Paper]                                |6137266 |\n",
      "|[Book Review, Book Chapter]                        |1498    |\n",
      "|[Book Review]                                      |4389270 |\n",
      "|[Retraction, Retracted Publication]                |1       |\n",
      "|[Main Cite]                                        |26      |\n",
      "|[Art Exhibit Review]                               |115589  |\n",
      "|[Article, Data Paper]                              |4142    |\n",
      "|[Article, Book]                                    |1651    |\n",
      "|[News Item, Retracted Publication]                 |4       |\n",
      "|[Review, Book]                                     |11      |\n",
      "|[Article]                                          |40733353|\n",
      "|[Hardware Review, Book Chapter]                    |3       |\n",
      "|[Proceedings Paper, Retracted Publication]         |775     |\n",
      "|[Bibliography, Book Chapter]                       |200     |\n",
      "|[Note, Retracted Publication]                      |9       |\n",
      "|[TV Review, Radio Review, Video]                   |4752    |\n",
      "|[Review, Book Chapter]                             |35000   |\n",
      "|[Hardware Review]                                  |2577    |\n",
      "|[Excerpt]                                          |7443    |\n",
      "|[Reprint, Book Chapter]                            |498     |\n",
      "|[Theater Review]                                   |33820   |\n",
      "|[Review, Retracted Publication]                    |247     |\n",
      "|[Music Score]                                      |1161    |\n",
      "|[Main Cite, Book Chapter]                          |73      |\n",
      "+---------------------------------------------------+--------+\n",
      "\n"
     ]
    },
    {
     "data": {
      "text/plain": [
       "docTypeCount = [doctype: array<string>, count: bigint]\n"
      ]
     },
     "metadata": {},
     "output_type": "display_data",
     "source": "user"
    },
    {
     "data": {
      "text/plain": [
       "[doctype: array<string>, count: bigint]"
      ]
     },
     "execution_count": 30,
     "metadata": {},
     "output_type": "execute_result"
    }
   ],
   "source": [
    "val docTypeCount = WoS2.groupBy(\"doctype\").count()\n",
    "docTypeCount.show(docTypeCount.count.toInt, false)"
   ]
  },
  {
   "cell_type": "code",
   "execution_count": 25,
   "metadata": {},
   "outputs": [
    {
     "name": "stdout",
     "output_type": "stream",
     "text": [
      "+-------+--------+---------+\n",
      "|summary|     UID|citedWork|\n",
      "+-------+--------+---------+\n",
      "|  count|73145376|    33023|\n",
      "+-------+--------+---------+\n",
      "\n"
     ]
    }
   ],
   "source": [
    "WoS2.describe().filter($\"summary\" === \"count\").show"
   ]
  },
  {
   "cell_type": "code",
   "execution_count": 13,
   "metadata": {},
   "outputs": [
    {
     "data": {
      "text/plain": [
       "lastException = null\n"
      ]
     },
     "metadata": {},
     "output_type": "display_data",
     "source": "user"
    },
    {
     "data": {
      "text/plain": [
       "Name: org.apache.spark.SparkException\n",
       "Message: Job aborted due to stage failure: \n",
       "Aborting TaskSet 11.0 because task 892 (partition 892)\n",
       "cannot run anywhere due to node and executor blacklist.\n",
       "Most recent failure:\n",
       "Lost task 892.0 in stage 11.0 (TID 4306, iuni5, executor 80): ExecutorLostFailure (executor 80 exited caused by one of the running tasks) Reason: Container killed by YARN for exceeding memory limits.  16.0 GB of 15.5 GB physical memory used. Consider boosting spark.yarn.executor.memoryOverhead or disabling yarn.nodemanager.vmem-check-enabled because of YARN-4714.\n",
       "\n",
       "Blacklisting behavior can be configured via spark.blacklist.*.\n",
       "\n",
       "StackTrace: Aborting TaskSet 11.0 because task 892 (partition 892)\n",
       "cannot run anywhere due to node and executor blacklist.\n",
       "Most recent failure:\n",
       "Lost task 892.0 in stage 11.0 (TID 4306, iuni5, executor 80): ExecutorLostFailure (executor 80 exited caused by one of the running tasks) Reason: Container killed by YARN for exceeding memory limits.  16.0 GB of 15.5 GB physical memory used. Consider boosting spark.yarn.executor.memoryOverhead or disabling yarn.nodemanager.vmem-check-enabled because of YARN-4714.\n",
       "Blacklisting behavior can be configured via spark.blacklist.*.\n",
       "  at org.apache.spark.scheduler.DAGScheduler.org$apache$spark$scheduler$DAGScheduler$$failJobAndIndependentStages(DAGScheduler.scala:1890)\n",
       "  at org.apache.spark.scheduler.DAGScheduler$$anonfun$abortStage$1.apply(DAGScheduler.scala:1878)\n",
       "  at org.apache.spark.scheduler.DAGScheduler$$anonfun$abortStage$1.apply(DAGScheduler.scala:1877)\n",
       "  at scala.collection.mutable.ResizableArray$class.foreach(ResizableArray.scala:59)\n",
       "  at scala.collection.mutable.ArrayBuffer.foreach(ArrayBuffer.scala:48)\n",
       "  at org.apache.spark.scheduler.DAGScheduler.abortStage(DAGScheduler.scala:1877)\n",
       "  at org.apache.spark.scheduler.DAGScheduler$$anonfun$handleTaskSetFailed$1.apply(DAGScheduler.scala:929)\n",
       "  at org.apache.spark.scheduler.DAGScheduler$$anonfun$handleTaskSetFailed$1.apply(DAGScheduler.scala:929)\n",
       "  at scala.Option.foreach(Option.scala:257)\n",
       "  at org.apache.spark.scheduler.DAGScheduler.handleTaskSetFailed(DAGScheduler.scala:929)\n",
       "  at org.apache.spark.scheduler.DAGSchedulerEventProcessLoop.doOnReceive(DAGScheduler.scala:2111)\n",
       "  at org.apache.spark.scheduler.DAGSchedulerEventProcessLoop.onReceive(DAGScheduler.scala:2060)\n",
       "  at org.apache.spark.scheduler.DAGSchedulerEventProcessLoop.onReceive(DAGScheduler.scala:2049)\n",
       "  at org.apache.spark.util.EventLoop$$anon$1.run(EventLoop.scala:49)\n",
       "  at org.apache.spark.scheduler.DAGScheduler.runJob(DAGScheduler.scala:740)\n",
       "  at org.apache.spark.SparkContext.runJob(SparkContext.scala:2081)\n",
       "  at org.apache.spark.SparkContext.runJob(SparkContext.scala:2102)\n",
       "  at org.apache.spark.SparkContext.runJob(SparkContext.scala:2121)\n",
       "  at org.apache.spark.SparkContext.runJob(SparkContext.scala:2146)\n",
       "  at org.apache.spark.rdd.RDD$$anonfun$collect$1.apply(RDD.scala:945)\n",
       "  at org.apache.spark.rdd.RDDOperationScope$.withScope(RDDOperationScope.scala:151)\n",
       "  at org.apache.spark.rdd.RDDOperationScope$.withScope(RDDOperationScope.scala:112)\n",
       "  at org.apache.spark.rdd.RDD.withScope(RDD.scala:363)\n",
       "  at org.apache.spark.rdd.RDD.collect(RDD.scala:944)\n",
       "  at org.apache.spark.sql.execution.stat.StatFunctions$.aggResult$lzycompute$1(StatFunctions.scala:273)\n",
       "  at org.apache.spark.sql.execution.stat.StatFunctions$.org$apache$spark$sql$execution$stat$StatFunctions$$aggResult$1(StatFunctions.scala:273)\n",
       "  at org.apache.spark.sql.execution.stat.StatFunctions$$anonfun$summary$2.apply$mcVI$sp(StatFunctions.scala:286)\n",
       "  at scala.collection.immutable.Range.foreach$mVc$sp(Range.scala:160)\n",
       "  at org.apache.spark.sql.execution.stat.StatFunctions$.summary(StatFunctions.scala:285)\n",
       "  at org.apache.spark.sql.Dataset.summary(Dataset.scala:2533)\n",
       "  at org.apache.spark.sql.Dataset.describe(Dataset.scala:2472)"
      ]
     },
     "execution_count": 13,
     "metadata": {},
     "output_type": "execute_result"
    }
   ],
   "source": [
    "val confCount = WoS2.filter($\"conf_titles\".isNotNull)\n",
    "confCount.describe().filter($\"summary\" === \"count\").show\n",
    "val grantCount = WoS2.filter($\"grant_agency\".isNotNull)\n",
    "grantCount.describe().filter($\"summary\" === \"count\").show\n",
    "//WoS2.describe().filter($\"summary\" === \"count\").show"
   ]
  },
  {
   "cell_type": "code",
   "execution_count": 102,
   "metadata": {},
   "outputs": [
    {
     "name": "stdout",
     "output_type": "stream",
     "text": [
      "+-------+----------+----------+----------+\n",
      "|summary|       UID|  _pubyear|     cited|\n",
      "+-------+----------+----------+----------+\n",
      "|  count|1474095899|1474095899|1472793641|\n",
      "+-------+----------+----------+----------+\n",
      "\n"
     ]
    },
    {
     "data": {
      "text/plain": [
       "edges = [UID: string, _pubyear: bigint ... 2 more fields]\n"
      ]
     },
     "metadata": {},
     "output_type": "display_data",
     "source": "user"
    },
    {
     "data": {
      "text/plain": [
       "[UID: string, _pubyear: bigint ... 2 more fields]"
      ]
     },
     "execution_count": 102,
     "metadata": {},
     "output_type": "execute_result"
    }
   ],
   "source": [
    "val edges = WoS2.select(\"UID\",\"pub_info._pubyear\",\"reference.uid\").withColumn(\"cited\", explode($\"uid\"))\n",
    "//edges.show(false)\n",
    "edges.describe().filter($\"summary\" === \"count\").show"
   ]
  },
  {
   "cell_type": "code",
   "execution_count": 68,
   "metadata": {},
   "outputs": [
    {
     "name": "stdout",
     "output_type": "stream",
     "text": [
      "+-------------------+---------------+\n",
      "|             FACTID|           PMID|\n",
      "+-------------------+---------------+\n",
      "|WOS:A1976CP17000008|MEDLINE:1000001|\n",
      "|WOS:A1976CP17000010|MEDLINE:1000003|\n",
      "|WOS:A1976CP17000012|MEDLINE:1000005|\n",
      "|WOS:A1976CP17000014|MEDLINE:1000007|\n",
      "|WOS:A1976CP17000016|MEDLINE:1000009|\n",
      "|WOS:A1978FS77900015| MEDLINE:100001|\n",
      "|WOS:A1976CP17000018|MEDLINE:1000010|\n",
      "|WOS:A1976CR07200001|MEDLINE:1000012|\n",
      "|WOS:A1976CR07200003|MEDLINE:1000014|\n",
      "|WOS:A1976CM49800001|MEDLINE:1000016|\n",
      "|WOS:A1976CM49800010|MEDLINE:1000018|\n",
      "|WOS:A1976BQ50600001|MEDLINE:1000021|\n",
      "|WOS:A1976BQ50600006|MEDLINE:1000023|\n",
      "|WOS:A1976BY10700001|MEDLINE:1000025|\n",
      "|WOS:A1976BY10700006|MEDLINE:1000027|\n",
      "|WOS:A1976BY10700010|MEDLINE:1000029|\n",
      "|WOS:A1978FH04500020| MEDLINE:100003|\n",
      "|WOS:A1976BY10700011|MEDLINE:1000030|\n",
      "|WOS:A1976CJ83400004|MEDLINE:1000032|\n",
      "|WOS:A1976CJ83400012|MEDLINE:1000034|\n",
      "+-------------------+---------------+\n",
      "only showing top 20 rows\n",
      "\n"
     ]
    },
    {
     "data": {
      "text/plain": [
       "PMID = [FACTID: string, PMID: string]\n"
      ]
     },
     "metadata": {},
     "output_type": "display_data",
     "source": "user"
    },
    {
     "data": {
      "text/plain": [
       "[FACTID: string, PMID: string]"
      ]
     },
     "execution_count": 68,
     "metadata": {},
     "output_type": "execute_result"
    }
   ],
   "source": [
    "val PMID = spark.read.format(\"csv\").option(\"delimiter\", \"|\").option(\"header\", true).load(\"/WoSraw/PMID_UT_File.txt\")\n",
    "PMID.show"
   ]
  },
  {
   "cell_type": "code",
   "execution_count": 69,
   "metadata": {},
   "outputs": [
    {
     "name": "stdout",
     "output_type": "stream",
     "text": [
      "+-------+--------+--------+\n",
      "|summary|  FACTID|    PMID|\n",
      "+-------+--------+--------+\n",
      "|  count|20993269|20993269|\n",
      "+-------+--------+--------+\n",
      "\n"
     ]
    }
   ],
   "source": [
    "PMID.describe().filter($\"summary\" === \"count\").show"
   ]
  },
  {
   "cell_type": "code",
   "execution_count": 72,
   "metadata": {},
   "outputs": [
    {
     "name": "stdout",
     "output_type": "stream",
     "text": [
      "+-------+--------+--------+--------+\n",
      "|summary|  FACTID|    PMID|     UID|\n",
      "+-------+--------+--------+--------+\n",
      "|  count|20993085|20993085|20993085|\n",
      "+-------+--------+--------+--------+\n",
      "\n"
     ]
    }
   ],
   "source": [
    "val matchedPapers = PMID.join(WoS2, PMID(\"FACTID\")===WoS2(\"UID\"), \"inner\")\n",
    "matchedPapers.describe().filter($\"summary\" === \"count\").show"
   ]
  },
  {
   "cell_type": "code",
   "execution_count": 98,
   "metadata": {},
   "outputs": [
    {
     "name": "stdout",
     "output_type": "stream",
     "text": [
      "+--------+--------------------+--------------------+\n",
      "|     PID|         referenceID|       referenceYear|\n",
      "+--------+--------------------+--------------------+\n",
      "| 9519093|[WOS:A1995QH39300...|[1995, 1982, 1993...|\n",
      "| 8958073|[WOS:A19619006A00...|[1961, 1989, 1988...|\n",
      "| 8958094|[WOS:000070949000...|[1994, 1993, 1983...|\n",
      "| 8906151|[WOS:A1991GU23700...|[1991, 1995, 1994...|\n",
      "| 8906195|[WOS:A1989AY30100...|[1989, 1968, 1994...|\n",
      "|19909325|[WOS:A1991EX60500...|[1991, 1995, 1994...|\n",
      "| 9463630|[WOS:A1995TA12500...|[1995, 1985, 1995...|\n",
      "| 9502174|[WOS:A1991GL51500...|[1991, 1991, 1991...|\n",
      "| 9409391|                null|                null|\n",
      "| 9414711|[WOS:A1997XB70300...|[1997, 1996, 1988...|\n",
      "| 9414816|[WOS:A1990CP23800...|[1990, 1996, 1997...|\n",
      "| 9414875|[WOS:000070963500...|[1996, 1982, 1994...|\n",
      "| 8958912|[WOS:A1994PX14600...|[1994, 1995, 1992...|\n",
      "| 8958947|[WOS:A1994PK12600...|        [1994, 1994]|\n",
      "| 8958961|[WOS:A1995QV29000...|[1995, 1994, 1994...|\n",
      "| 8958967|[WOS:A1995QW90100...|[1995, 1994, 1993...|\n",
      "| 9607035|[WOS:A1992JY97800...|[1992, 1994, 1984...|\n",
      "| 9607044|[WOS:A1989T854500...|[1989, 1997, 1994...|\n",
      "| 9397448|[WOS:A1994NF40200...|[1994, 1996, 1997...|\n",
      "| 9426336|[WOS:A1994NR93400...|[1994, 1993, 1991...|\n",
      "+--------+--------------------+--------------------+\n",
      "only showing top 20 rows\n",
      "\n"
     ]
    },
    {
     "data": {
      "text/plain": [
       "matchedPaperID = [medID: string, UID: string ... 2 more fields]\n",
       "matchedPaperRefs = [PID: string, referenceID: array<string> ... 1 more field]\n"
      ]
     },
     "metadata": {},
     "output_type": "display_data",
     "source": "user"
    },
    {
     "data": {
      "text/plain": [
       "lastException: Throwable = null\n"
      ]
     },
     "metadata": {},
     "output_type": "display_data",
     "source": "user"
    },
    {
     "data": {
      "text/plain": [
       "[PID: string, referenceID: array<string> ... 1 more field]"
      ]
     },
     "execution_count": 98,
     "metadata": {},
     "output_type": "execute_result"
    }
   ],
   "source": [
    "val matchedPaperID = matchedPapers.select(\"PMID\",\"UID\",\"reference.uid\",\"reference.year\").toDF(\"medID\",\"UID\",\"referenceID\",\"referenceYear\")\n",
    "val matchedPaperRefs = matchedPaperID.select(substring(col(\"medID\"),9,20).as(\"PID\"), col(\"referenceID\"), col(\"referenceYear\"))\n",
    "matchedPaperRefs.show"
   ]
  },
  {
   "cell_type": "code",
   "execution_count": 109,
   "metadata": {},
   "outputs": [
    {
     "name": "stdout",
     "output_type": "stream",
     "text": [
      "+-------+---------+---------+---------+---------+\n",
      "|summary|      PID| _pubyear|    cited|   citing|\n",
      "+-------+---------+---------+---------+---------+\n",
      "|  count|576612422|576612422|576612422|576612422|\n",
      "+-------+---------+---------+---------+---------+\n",
      "\n"
     ]
    },
    {
     "data": {
      "text/plain": [
       "matchedCitaions = [FACTID: string, PMID: string ... 4 more fields]\n",
       "matchedCites = [PID: string, _pubyear: bigint ... 2 more fields]\n"
      ]
     },
     "metadata": {},
     "output_type": "display_data",
     "source": "user"
    },
    {
     "data": {
      "text/plain": [
       "[PID: string, _pubyear: bigint ... 2 more fields]"
      ]
     },
     "execution_count": 109,
     "metadata": {},
     "output_type": "execute_result"
    }
   ],
   "source": [
    "val matchedCitaions = PMID.join(edges, PMID(\"FACTID\")===edges(\"cited\"), \"inner\")\n",
    "val matchedCites =  matchedCitaions.select(substring(col(\"PMID\"),9,20).as(\"PID\"), col(\"_pubyear\"), col(\"cited\"),col(\"UID\").as(\"citing\"))\n",
    "matchedCites.describe().filter($\"summary\" === \"count\").show"
   ]
  },
  {
   "cell_type": "code",
   "execution_count": 110,
   "metadata": {},
   "outputs": [
    {
     "name": "stdout",
     "output_type": "stream",
     "text": [
      "+-------+--------+-------------------+-------------------+\n",
      "|PID    |_pubyear|cited              |citing             |\n",
      "+-------+--------+-------------------+-------------------+\n",
      "|9519093|2000    |WOS:000070921600010|WOS:000166622100003|\n",
      "|9519093|2009    |WOS:000070921600010|WOS:000266298100010|\n",
      "|9519093|2007    |WOS:000070921600010|WOS:000246193200004|\n",
      "|9519093|2009    |WOS:000070921600010|WOS:000265424000003|\n",
      "|9519093|2014    |WOS:000070921600010|WOS:000329866300095|\n",
      "|9519093|2003    |WOS:000070921600010|WOS:000183209700016|\n",
      "|9519093|2009    |WOS:000070921600010|WOS:000265569200013|\n",
      "|9519093|2012    |WOS:000070921600010|WOS:000305931800009|\n",
      "|9519093|2012    |WOS:000070921600010|WOS:000213680400010|\n",
      "|9519093|2010    |WOS:000070921600010|WOS:000289422600002|\n",
      "|9519093|2002    |WOS:000070921600010|WOS:000178417100002|\n",
      "|9519093|2008    |WOS:000070921600010|WOS:000260697300011|\n",
      "|9519093|2017    |WOS:000070921600010|WOS:000391034600008|\n",
      "|9519093|2004    |WOS:000070921600010|WOS:000224758000007|\n",
      "|9519093|2013    |WOS:000070921600010|WOS:000314641500015|\n",
      "|9519093|2001    |WOS:000070921600010|WOS:000167997100002|\n",
      "|9519093|2001    |WOS:000070921600010|WOS:000170759300017|\n",
      "|9519093|2005    |WOS:000070921600010|WOS:000228500600001|\n",
      "|9519093|2003    |WOS:000070921600010|WOS:000182006700001|\n",
      "|9519093|2002    |WOS:000070921600010|WOS:000177835600017|\n",
      "+-------+--------+-------------------+-------------------+\n",
      "only showing top 20 rows\n",
      "\n"
     ]
    }
   ],
   "source": [
    "matchedCites.show(false)"
   ]
  },
  {
   "cell_type": "code",
   "execution_count": 75,
   "metadata": {},
   "outputs": [
    {
     "name": "stdout",
     "output_type": "stream",
     "text": [
      "+--------+--------------------+--------------------+--------------------+-------+--------+--------------------+\n",
      "|    PMID|               Title|              Author|             Journal|Pubyear|Category|             Details|\n",
      "+--------+--------------------+--------------------+--------------------+-------+--------+--------------------+\n",
      "|22283023|[Second meeting o...|Sistac Ballarín J...|Rev Esp Anestesio...|   2010|medicine|Rev Esp Anestesio...|\n",
      "|22283018|[Bringing clinica...|Sancho R, Rábago ...|Rev Esp Anestesio...|   2010|medicine|Rev Esp Anestesio...|\n",
      "|22145552|The Mental Health...|    Glover-Thomas N.|             Med Law|   2010|medicine|Med Law. 2010 Dec...|\n",
      "|22106586|Postgraduate surg...|           Tandon A.| Indian J Med Ethics|   2010|medicine|Indian J Med Ethi...|\n",
      "|22046717|[Diagnostic use o...|          Talbot JN.|  Bull Acad Natl Med|   2010|medicine|Bull Acad Natl Me...|\n",
      "|22046713|[Advances treatme...|            Orcel P.|  Bull Acad Natl Med|   2010|medicine|Bull Acad Natl Me...|\n",
      "|22046711|[Management of os...|             Roux C.|  Bull Acad Natl Med|   2010|medicine|Bull Acad Natl Me...|\n",
      "|22044087|The association b...|Shiri S, Wexler I...|       Int J Psychol|   2010|medicine|Int J Psychol. 20...|\n",
      "|22043621|[Boxing: traumato...|Cabanis EA, Iba-Z...|  Bull Acad Natl Med|   2010|medicine|Bull Acad Natl Me...|\n",
      "|22032018|Children's bioeth...|           Gillam L.|   Monash Bioeth Rev|   2010|medicine|Monash Bioeth Rev...|\n",
      "|22003497|Educational Book ...| [No authors listed]|           Ann Oncol|   2010|medicine|Ann Oncol. 2010 O...|\n",
      "|22002455|Transporting clin...|Robbins MS, Alons...|Addict Sci Clin P...|   2010|medicine|Addict Sci Clin P...|\n",
      "|22002454|Response: thought...|Brigham G, Jackso...|Addict Sci Clin P...|   2010|medicine|Addict Sci Clin P...|\n",
      "|22002453|Cost evaluation o...|Sindelar JL, Ball...|Addict Sci Clin P...|   2010|medicine|Addict Sci Clin P...|\n",
      "|22002452|Response: fidelit...|Shopshire M, Levy...|Addict Sci Clin P...|   2010|medicine|Addict Sci Clin P...|\n",
      "|22002451|Strategies for tr...|          Martino S.|Addict Sci Clin P...|   2010|medicine|Addict Sci Clin P...|\n",
      "|22002446|Toward individual...|          Volkow ND.|Addict Sci Clin P...|   2010|medicine|Addict Sci Clin P...|\n",
      "|21990652|Establishing oper...|Gomez MA, Byers E...|  J Neurointerv Surg|   2010|medicine|J Neurointerv Sur...|\n",
      "|21990638|   Comfortably numb.|            Tarr RW.|  J Neurointerv Surg|   2010|medicine|J Neurointerv Sur...|\n",
      "|21990635|Occupational heal...|Miller DL, Klein ...|  J Neurointerv Surg|   2010|medicine|J Neurointerv Sur...|\n",
      "+--------+--------------------+--------------------+--------------------+-------+--------+--------------------+\n",
      "only showing top 20 rows\n",
      "\n"
     ]
    },
    {
     "data": {
      "text/plain": [
       "PMpapers = [PMID: string, Title: string ... 5 more fields]\n"
      ]
     },
     "metadata": {},
     "output_type": "display_data",
     "source": "user"
    },
    {
     "data": {
      "text/plain": [
       "lastException: Throwable = null\n"
      ]
     },
     "metadata": {},
     "output_type": "display_data",
     "source": "user"
    },
    {
     "data": {
      "text/plain": [
       "[PMID: string, Title: string ... 5 more fields]"
      ]
     },
     "execution_count": 75,
     "metadata": {},
     "output_type": "execute_result"
    }
   ],
   "source": [
    "val PMpapers = spark.read.format(\"csv\").option(\"header\", true).load(\"/data1/pubMedList.csv\")\n",
    "PMpapers.show"
   ]
  },
  {
   "cell_type": "code",
   "execution_count": 113,
   "metadata": {},
   "outputs": [
    {
     "name": "stdout",
     "output_type": "stream",
     "text": [
      "+-------+------+------+------+-------+-------+--------+-------+\n",
      "|summary|  PMID| Title|Author|Journal|Pubyear|Category|Details|\n",
      "+-------+------+------+------+-------+-------+--------+-------+\n",
      "|  count|836628|836628|836628| 836628| 836628|  836628| 836628|\n",
      "+-------+------+------+------+-------+-------+--------+-------+\n",
      "\n"
     ]
    }
   ],
   "source": [
    "PMpapers.describe().filter($\"summary\" === \"count\").show"
   ]
  },
  {
   "cell_type": "code",
   "execution_count": 112,
   "metadata": {},
   "outputs": [
    {
     "name": "stdout",
     "output_type": "stream",
     "text": [
      "+-------+--------+--------+--------+--------+--------+--------+--------+--------+--------+--------+--------+\n",
      "|summary|    PMID|   Title|  Author| Journal| Pubyear|Category| Details|     PID|_pubyear|   cited|  citing|\n",
      "+-------+--------+--------+--------+--------+--------+--------+--------+--------+--------+--------+--------+\n",
      "|  count|15210460|15210460|15210460|15210460|15210460|15210460|15210460|14786288|14786288|14786288|14786288|\n",
      "+-------+--------+--------+--------+--------+--------+--------+--------+--------+--------+--------+--------+\n",
      "\n"
     ]
    },
    {
     "data": {
      "text/plain": [
       "matched = [PMID: string, Title: string ... 9 more fields]\n"
      ]
     },
     "metadata": {},
     "output_type": "display_data",
     "source": "user"
    },
    {
     "data": {
      "text/plain": [
       "lastException: Throwable = null\n"
      ]
     },
     "metadata": {},
     "output_type": "display_data",
     "source": "user"
    },
    {
     "data": {
      "text/plain": [
       "[PMID: string, Title: string ... 9 more fields]"
      ]
     },
     "execution_count": 112,
     "metadata": {},
     "output_type": "execute_result"
    }
   ],
   "source": [
    "val matched = PMpapers.join(matchedCites, PMpapers(\"PMID\")===matchedCites(\"PID\"), \"left\")\n",
    "//matched.show\n",
    "matched.describe().filter($\"summary\" === \"count\").show"
   ]
  },
  {
   "cell_type": "code",
   "execution_count": 116,
   "metadata": {},
   "outputs": [
    {
     "name": "stdout",
     "output_type": "stream",
     "text": [
      "+--------+--------------------+\n",
      "|    PMID|          citedYears|\n",
      "+--------+--------------------+\n",
      "|10024099|2012|2013|2010|20...|\n",
      "| 1003397|                1980|\n",
      "|10036666|                2004|\n",
      "| 1004266|                    |\n",
      "|10066299|                    |\n",
      "|10069318|                    |\n",
      "|10072198|                    |\n",
      "|10078382|                2005|\n",
      "|10087323|2012|2003|2000|20...|\n",
      "|10100247|                    |\n",
      "|10103660|                    |\n",
      "|10105900|                    |\n",
      "|10105908|                    |\n",
      "|10110019|                    |\n",
      "|10116443|                    |\n",
      "|10118508|                    |\n",
      "|10126143|                    |\n",
      "|10133958|                    |\n",
      "|10134612|                    |\n",
      "|10136192|                    |\n",
      "+--------+--------------------+\n",
      "only showing top 20 rows\n",
      "\n"
     ]
    },
    {
     "data": {
      "text/plain": [
       "matchedRefs = [PMID: string, citedYears: string]\n"
      ]
     },
     "metadata": {},
     "output_type": "display_data",
     "source": "user"
    },
    {
     "data": {
      "text/plain": [
       "[PMID: string, citedYears: string]"
      ]
     },
     "execution_count": 116,
     "metadata": {},
     "output_type": "execute_result"
    }
   ],
   "source": [
    "val matchedRefs = matched.orderBy(\"_pubyear\").groupBy(\"PMID\").agg(concat_ws(\"|\", collect_list(\"_pubyear\")) as \"citedYears\")\n",
    "//matchedPapers.describe().filter($\"summary\" === \"count\").show\n",
    "matchedRefs.show"
   ]
  },
  {
   "cell_type": "code",
   "execution_count": 122,
   "metadata": {},
   "outputs": [
    {
     "name": "stdout",
     "output_type": "stream",
     "text": [
      "+-------+------+------+------+-------+-------+--------+-------+------+----------+\n",
      "|summary|  PMID| Title|Author|Journal|Pubyear|Category|Details|   PID|citedYears|\n",
      "+-------+------+------+------+-------+-------+--------+-------+------+----------+\n",
      "|  count|836628|836628|836628| 836628| 836628|  836628| 836628|836628|    836628|\n",
      "+-------+------+------+------+-------+-------+--------+-------+------+----------+\n",
      "\n"
     ]
    },
    {
     "data": {
      "text/plain": [
       "matchedRefs2 = [PID: string, citedYears: string]\n",
       "matched2 = [PMID: string, Title: string ... 7 more fields]\n"
      ]
     },
     "metadata": {},
     "output_type": "display_data",
     "source": "user"
    },
    {
     "data": {
      "text/plain": [
       "[PMID: string, Title: string ... 7 more fields]"
      ]
     },
     "execution_count": 122,
     "metadata": {},
     "output_type": "execute_result"
    }
   ],
   "source": [
    "val matchedRefs2 = matchedRefs.toDF(\"PID\",\"citedYears\")\n",
    "val matched2 = PMpapers.join(matchedRefs2, PMpapers(\"PMID\")===matchedRefs2(\"PID\"), \"inner\")\n",
    "//matched.show\n",
    "matched2.describe().filter($\"summary\" === \"count\").show"
   ]
  },
  {
   "cell_type": "code",
   "execution_count": 123,
   "metadata": {},
   "outputs": [],
   "source": [
    "matched2.coalesce(1).write.mode(SaveMode.Overwrite)\n",
    "    .format(\"com.databricks.spark.csv\")\n",
    "    .option(\"header\", \"true\")\n",
    "    .save(\"/data1/pubMedListRef.csv\")"
   ]
  },
  {
   "cell_type": "code",
   "execution_count": null,
   "metadata": {},
   "outputs": [],
   "source": []
  }
 ],
 "metadata": {
  "kernelspec": {
   "display_name": "Apache Toree - Scala",
   "language": "scala",
   "name": "apache_toree_scala"
  },
  "language_info": {
   "codemirror_mode": "text/x-scala",
   "file_extension": ".scala",
   "mimetype": "text/x-scala",
   "name": "scala",
   "pygments_lexer": "scala",
   "version": "2.11.12"
  }
 },
 "nbformat": 4,
 "nbformat_minor": 2
}
